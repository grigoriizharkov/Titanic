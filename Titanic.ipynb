{
 "cells": [
  {
   "cell_type": "code",
   "execution_count": 170,
   "id": "d22e503a",
   "metadata": {},
   "outputs": [],
   "source": [
    "import pandas as pd\n",
    "import numpy as np\n",
    "import matplotlib.pyplot as plt\n",
    "\n",
    "%matplotlib inline"
   ]
  },
  {
   "cell_type": "code",
   "execution_count": 171,
   "id": "c36cdcca",
   "metadata": {},
   "outputs": [],
   "source": [
    "train_data = pd.read_csv('Data/train.csv')\n",
    "test_data = pd.read_csv('Data/test.csv')"
   ]
  },
  {
   "cell_type": "code",
   "execution_count": 172,
   "id": "8504209d",
   "metadata": {
    "scrolled": false
   },
   "outputs": [
    {
     "data": {
      "text/html": [
       "<div>\n",
       "<style scoped>\n",
       "    .dataframe tbody tr th:only-of-type {\n",
       "        vertical-align: middle;\n",
       "    }\n",
       "\n",
       "    .dataframe tbody tr th {\n",
       "        vertical-align: top;\n",
       "    }\n",
       "\n",
       "    .dataframe thead th {\n",
       "        text-align: right;\n",
       "    }\n",
       "</style>\n",
       "<table border=\"1\" class=\"dataframe\">\n",
       "  <thead>\n",
       "    <tr style=\"text-align: right;\">\n",
       "      <th></th>\n",
       "      <th>PassengerId</th>\n",
       "      <th>Survived</th>\n",
       "      <th>Pclass</th>\n",
       "      <th>Name</th>\n",
       "      <th>Sex</th>\n",
       "      <th>Age</th>\n",
       "      <th>SibSp</th>\n",
       "      <th>Parch</th>\n",
       "      <th>Ticket</th>\n",
       "      <th>Fare</th>\n",
       "      <th>Cabin</th>\n",
       "      <th>Embarked</th>\n",
       "    </tr>\n",
       "  </thead>\n",
       "  <tbody>\n",
       "    <tr>\n",
       "      <th>0</th>\n",
       "      <td>1</td>\n",
       "      <td>0</td>\n",
       "      <td>3</td>\n",
       "      <td>Braund, Mr. Owen Harris</td>\n",
       "      <td>male</td>\n",
       "      <td>22.0</td>\n",
       "      <td>1</td>\n",
       "      <td>0</td>\n",
       "      <td>A/5 21171</td>\n",
       "      <td>7.2500</td>\n",
       "      <td>NaN</td>\n",
       "      <td>S</td>\n",
       "    </tr>\n",
       "    <tr>\n",
       "      <th>1</th>\n",
       "      <td>2</td>\n",
       "      <td>1</td>\n",
       "      <td>1</td>\n",
       "      <td>Cumings, Mrs. John Bradley (Florence Briggs Th...</td>\n",
       "      <td>female</td>\n",
       "      <td>38.0</td>\n",
       "      <td>1</td>\n",
       "      <td>0</td>\n",
       "      <td>PC 17599</td>\n",
       "      <td>71.2833</td>\n",
       "      <td>C85</td>\n",
       "      <td>C</td>\n",
       "    </tr>\n",
       "    <tr>\n",
       "      <th>2</th>\n",
       "      <td>3</td>\n",
       "      <td>1</td>\n",
       "      <td>3</td>\n",
       "      <td>Heikkinen, Miss. Laina</td>\n",
       "      <td>female</td>\n",
       "      <td>26.0</td>\n",
       "      <td>0</td>\n",
       "      <td>0</td>\n",
       "      <td>STON/O2. 3101282</td>\n",
       "      <td>7.9250</td>\n",
       "      <td>NaN</td>\n",
       "      <td>S</td>\n",
       "    </tr>\n",
       "    <tr>\n",
       "      <th>3</th>\n",
       "      <td>4</td>\n",
       "      <td>1</td>\n",
       "      <td>1</td>\n",
       "      <td>Futrelle, Mrs. Jacques Heath (Lily May Peel)</td>\n",
       "      <td>female</td>\n",
       "      <td>35.0</td>\n",
       "      <td>1</td>\n",
       "      <td>0</td>\n",
       "      <td>113803</td>\n",
       "      <td>53.1000</td>\n",
       "      <td>C123</td>\n",
       "      <td>S</td>\n",
       "    </tr>\n",
       "    <tr>\n",
       "      <th>4</th>\n",
       "      <td>5</td>\n",
       "      <td>0</td>\n",
       "      <td>3</td>\n",
       "      <td>Allen, Mr. William Henry</td>\n",
       "      <td>male</td>\n",
       "      <td>35.0</td>\n",
       "      <td>0</td>\n",
       "      <td>0</td>\n",
       "      <td>373450</td>\n",
       "      <td>8.0500</td>\n",
       "      <td>NaN</td>\n",
       "      <td>S</td>\n",
       "    </tr>\n",
       "    <tr>\n",
       "      <th>...</th>\n",
       "      <td>...</td>\n",
       "      <td>...</td>\n",
       "      <td>...</td>\n",
       "      <td>...</td>\n",
       "      <td>...</td>\n",
       "      <td>...</td>\n",
       "      <td>...</td>\n",
       "      <td>...</td>\n",
       "      <td>...</td>\n",
       "      <td>...</td>\n",
       "      <td>...</td>\n",
       "      <td>...</td>\n",
       "    </tr>\n",
       "    <tr>\n",
       "      <th>886</th>\n",
       "      <td>887</td>\n",
       "      <td>0</td>\n",
       "      <td>2</td>\n",
       "      <td>Montvila, Rev. Juozas</td>\n",
       "      <td>male</td>\n",
       "      <td>27.0</td>\n",
       "      <td>0</td>\n",
       "      <td>0</td>\n",
       "      <td>211536</td>\n",
       "      <td>13.0000</td>\n",
       "      <td>NaN</td>\n",
       "      <td>S</td>\n",
       "    </tr>\n",
       "    <tr>\n",
       "      <th>887</th>\n",
       "      <td>888</td>\n",
       "      <td>1</td>\n",
       "      <td>1</td>\n",
       "      <td>Graham, Miss. Margaret Edith</td>\n",
       "      <td>female</td>\n",
       "      <td>19.0</td>\n",
       "      <td>0</td>\n",
       "      <td>0</td>\n",
       "      <td>112053</td>\n",
       "      <td>30.0000</td>\n",
       "      <td>B42</td>\n",
       "      <td>S</td>\n",
       "    </tr>\n",
       "    <tr>\n",
       "      <th>888</th>\n",
       "      <td>889</td>\n",
       "      <td>0</td>\n",
       "      <td>3</td>\n",
       "      <td>Johnston, Miss. Catherine Helen \"Carrie\"</td>\n",
       "      <td>female</td>\n",
       "      <td>NaN</td>\n",
       "      <td>1</td>\n",
       "      <td>2</td>\n",
       "      <td>W./C. 6607</td>\n",
       "      <td>23.4500</td>\n",
       "      <td>NaN</td>\n",
       "      <td>S</td>\n",
       "    </tr>\n",
       "    <tr>\n",
       "      <th>889</th>\n",
       "      <td>890</td>\n",
       "      <td>1</td>\n",
       "      <td>1</td>\n",
       "      <td>Behr, Mr. Karl Howell</td>\n",
       "      <td>male</td>\n",
       "      <td>26.0</td>\n",
       "      <td>0</td>\n",
       "      <td>0</td>\n",
       "      <td>111369</td>\n",
       "      <td>30.0000</td>\n",
       "      <td>C148</td>\n",
       "      <td>C</td>\n",
       "    </tr>\n",
       "    <tr>\n",
       "      <th>890</th>\n",
       "      <td>891</td>\n",
       "      <td>0</td>\n",
       "      <td>3</td>\n",
       "      <td>Dooley, Mr. Patrick</td>\n",
       "      <td>male</td>\n",
       "      <td>32.0</td>\n",
       "      <td>0</td>\n",
       "      <td>0</td>\n",
       "      <td>370376</td>\n",
       "      <td>7.7500</td>\n",
       "      <td>NaN</td>\n",
       "      <td>Q</td>\n",
       "    </tr>\n",
       "  </tbody>\n",
       "</table>\n",
       "<p>891 rows × 12 columns</p>\n",
       "</div>"
      ],
      "text/plain": [
       "     PassengerId  Survived  Pclass  \\\n",
       "0              1         0       3   \n",
       "1              2         1       1   \n",
       "2              3         1       3   \n",
       "3              4         1       1   \n",
       "4              5         0       3   \n",
       "..           ...       ...     ...   \n",
       "886          887         0       2   \n",
       "887          888         1       1   \n",
       "888          889         0       3   \n",
       "889          890         1       1   \n",
       "890          891         0       3   \n",
       "\n",
       "                                                  Name     Sex   Age  SibSp  \\\n",
       "0                              Braund, Mr. Owen Harris    male  22.0      1   \n",
       "1    Cumings, Mrs. John Bradley (Florence Briggs Th...  female  38.0      1   \n",
       "2                               Heikkinen, Miss. Laina  female  26.0      0   \n",
       "3         Futrelle, Mrs. Jacques Heath (Lily May Peel)  female  35.0      1   \n",
       "4                             Allen, Mr. William Henry    male  35.0      0   \n",
       "..                                                 ...     ...   ...    ...   \n",
       "886                              Montvila, Rev. Juozas    male  27.0      0   \n",
       "887                       Graham, Miss. Margaret Edith  female  19.0      0   \n",
       "888           Johnston, Miss. Catherine Helen \"Carrie\"  female   NaN      1   \n",
       "889                              Behr, Mr. Karl Howell    male  26.0      0   \n",
       "890                                Dooley, Mr. Patrick    male  32.0      0   \n",
       "\n",
       "     Parch            Ticket     Fare Cabin Embarked  \n",
       "0        0         A/5 21171   7.2500   NaN        S  \n",
       "1        0          PC 17599  71.2833   C85        C  \n",
       "2        0  STON/O2. 3101282   7.9250   NaN        S  \n",
       "3        0            113803  53.1000  C123        S  \n",
       "4        0            373450   8.0500   NaN        S  \n",
       "..     ...               ...      ...   ...      ...  \n",
       "886      0            211536  13.0000   NaN        S  \n",
       "887      0            112053  30.0000   B42        S  \n",
       "888      2        W./C. 6607  23.4500   NaN        S  \n",
       "889      0            111369  30.0000  C148        C  \n",
       "890      0            370376   7.7500   NaN        Q  \n",
       "\n",
       "[891 rows x 12 columns]"
      ]
     },
     "execution_count": 172,
     "metadata": {},
     "output_type": "execute_result"
    }
   ],
   "source": [
    "train_data"
   ]
  },
  {
   "cell_type": "code",
   "execution_count": 173,
   "id": "860d1002",
   "metadata": {},
   "outputs": [
    {
     "data": {
      "text/html": [
       "<div>\n",
       "<style scoped>\n",
       "    .dataframe tbody tr th:only-of-type {\n",
       "        vertical-align: middle;\n",
       "    }\n",
       "\n",
       "    .dataframe tbody tr th {\n",
       "        vertical-align: top;\n",
       "    }\n",
       "\n",
       "    .dataframe thead th {\n",
       "        text-align: right;\n",
       "    }\n",
       "</style>\n",
       "<table border=\"1\" class=\"dataframe\">\n",
       "  <thead>\n",
       "    <tr style=\"text-align: right;\">\n",
       "      <th></th>\n",
       "      <th>PassengerId</th>\n",
       "      <th>Pclass</th>\n",
       "      <th>Name</th>\n",
       "      <th>Sex</th>\n",
       "      <th>Age</th>\n",
       "      <th>SibSp</th>\n",
       "      <th>Parch</th>\n",
       "      <th>Ticket</th>\n",
       "      <th>Fare</th>\n",
       "      <th>Cabin</th>\n",
       "      <th>Embarked</th>\n",
       "    </tr>\n",
       "  </thead>\n",
       "  <tbody>\n",
       "    <tr>\n",
       "      <th>0</th>\n",
       "      <td>892</td>\n",
       "      <td>3</td>\n",
       "      <td>Kelly, Mr. James</td>\n",
       "      <td>male</td>\n",
       "      <td>34.5</td>\n",
       "      <td>0</td>\n",
       "      <td>0</td>\n",
       "      <td>330911</td>\n",
       "      <td>7.8292</td>\n",
       "      <td>NaN</td>\n",
       "      <td>Q</td>\n",
       "    </tr>\n",
       "    <tr>\n",
       "      <th>1</th>\n",
       "      <td>893</td>\n",
       "      <td>3</td>\n",
       "      <td>Wilkes, Mrs. James (Ellen Needs)</td>\n",
       "      <td>female</td>\n",
       "      <td>47.0</td>\n",
       "      <td>1</td>\n",
       "      <td>0</td>\n",
       "      <td>363272</td>\n",
       "      <td>7.0000</td>\n",
       "      <td>NaN</td>\n",
       "      <td>S</td>\n",
       "    </tr>\n",
       "    <tr>\n",
       "      <th>2</th>\n",
       "      <td>894</td>\n",
       "      <td>2</td>\n",
       "      <td>Myles, Mr. Thomas Francis</td>\n",
       "      <td>male</td>\n",
       "      <td>62.0</td>\n",
       "      <td>0</td>\n",
       "      <td>0</td>\n",
       "      <td>240276</td>\n",
       "      <td>9.6875</td>\n",
       "      <td>NaN</td>\n",
       "      <td>Q</td>\n",
       "    </tr>\n",
       "    <tr>\n",
       "      <th>3</th>\n",
       "      <td>895</td>\n",
       "      <td>3</td>\n",
       "      <td>Wirz, Mr. Albert</td>\n",
       "      <td>male</td>\n",
       "      <td>27.0</td>\n",
       "      <td>0</td>\n",
       "      <td>0</td>\n",
       "      <td>315154</td>\n",
       "      <td>8.6625</td>\n",
       "      <td>NaN</td>\n",
       "      <td>S</td>\n",
       "    </tr>\n",
       "    <tr>\n",
       "      <th>4</th>\n",
       "      <td>896</td>\n",
       "      <td>3</td>\n",
       "      <td>Hirvonen, Mrs. Alexander (Helga E Lindqvist)</td>\n",
       "      <td>female</td>\n",
       "      <td>22.0</td>\n",
       "      <td>1</td>\n",
       "      <td>1</td>\n",
       "      <td>3101298</td>\n",
       "      <td>12.2875</td>\n",
       "      <td>NaN</td>\n",
       "      <td>S</td>\n",
       "    </tr>\n",
       "    <tr>\n",
       "      <th>...</th>\n",
       "      <td>...</td>\n",
       "      <td>...</td>\n",
       "      <td>...</td>\n",
       "      <td>...</td>\n",
       "      <td>...</td>\n",
       "      <td>...</td>\n",
       "      <td>...</td>\n",
       "      <td>...</td>\n",
       "      <td>...</td>\n",
       "      <td>...</td>\n",
       "      <td>...</td>\n",
       "    </tr>\n",
       "    <tr>\n",
       "      <th>413</th>\n",
       "      <td>1305</td>\n",
       "      <td>3</td>\n",
       "      <td>Spector, Mr. Woolf</td>\n",
       "      <td>male</td>\n",
       "      <td>NaN</td>\n",
       "      <td>0</td>\n",
       "      <td>0</td>\n",
       "      <td>A.5. 3236</td>\n",
       "      <td>8.0500</td>\n",
       "      <td>NaN</td>\n",
       "      <td>S</td>\n",
       "    </tr>\n",
       "    <tr>\n",
       "      <th>414</th>\n",
       "      <td>1306</td>\n",
       "      <td>1</td>\n",
       "      <td>Oliva y Ocana, Dona. Fermina</td>\n",
       "      <td>female</td>\n",
       "      <td>39.0</td>\n",
       "      <td>0</td>\n",
       "      <td>0</td>\n",
       "      <td>PC 17758</td>\n",
       "      <td>108.9000</td>\n",
       "      <td>C105</td>\n",
       "      <td>C</td>\n",
       "    </tr>\n",
       "    <tr>\n",
       "      <th>415</th>\n",
       "      <td>1307</td>\n",
       "      <td>3</td>\n",
       "      <td>Saether, Mr. Simon Sivertsen</td>\n",
       "      <td>male</td>\n",
       "      <td>38.5</td>\n",
       "      <td>0</td>\n",
       "      <td>0</td>\n",
       "      <td>SOTON/O.Q. 3101262</td>\n",
       "      <td>7.2500</td>\n",
       "      <td>NaN</td>\n",
       "      <td>S</td>\n",
       "    </tr>\n",
       "    <tr>\n",
       "      <th>416</th>\n",
       "      <td>1308</td>\n",
       "      <td>3</td>\n",
       "      <td>Ware, Mr. Frederick</td>\n",
       "      <td>male</td>\n",
       "      <td>NaN</td>\n",
       "      <td>0</td>\n",
       "      <td>0</td>\n",
       "      <td>359309</td>\n",
       "      <td>8.0500</td>\n",
       "      <td>NaN</td>\n",
       "      <td>S</td>\n",
       "    </tr>\n",
       "    <tr>\n",
       "      <th>417</th>\n",
       "      <td>1309</td>\n",
       "      <td>3</td>\n",
       "      <td>Peter, Master. Michael J</td>\n",
       "      <td>male</td>\n",
       "      <td>NaN</td>\n",
       "      <td>1</td>\n",
       "      <td>1</td>\n",
       "      <td>2668</td>\n",
       "      <td>22.3583</td>\n",
       "      <td>NaN</td>\n",
       "      <td>C</td>\n",
       "    </tr>\n",
       "  </tbody>\n",
       "</table>\n",
       "<p>418 rows × 11 columns</p>\n",
       "</div>"
      ],
      "text/plain": [
       "     PassengerId  Pclass                                          Name  \\\n",
       "0            892       3                              Kelly, Mr. James   \n",
       "1            893       3              Wilkes, Mrs. James (Ellen Needs)   \n",
       "2            894       2                     Myles, Mr. Thomas Francis   \n",
       "3            895       3                              Wirz, Mr. Albert   \n",
       "4            896       3  Hirvonen, Mrs. Alexander (Helga E Lindqvist)   \n",
       "..           ...     ...                                           ...   \n",
       "413         1305       3                            Spector, Mr. Woolf   \n",
       "414         1306       1                  Oliva y Ocana, Dona. Fermina   \n",
       "415         1307       3                  Saether, Mr. Simon Sivertsen   \n",
       "416         1308       3                           Ware, Mr. Frederick   \n",
       "417         1309       3                      Peter, Master. Michael J   \n",
       "\n",
       "        Sex   Age  SibSp  Parch              Ticket      Fare Cabin Embarked  \n",
       "0      male  34.5      0      0              330911    7.8292   NaN        Q  \n",
       "1    female  47.0      1      0              363272    7.0000   NaN        S  \n",
       "2      male  62.0      0      0              240276    9.6875   NaN        Q  \n",
       "3      male  27.0      0      0              315154    8.6625   NaN        S  \n",
       "4    female  22.0      1      1             3101298   12.2875   NaN        S  \n",
       "..      ...   ...    ...    ...                 ...       ...   ...      ...  \n",
       "413    male   NaN      0      0           A.5. 3236    8.0500   NaN        S  \n",
       "414  female  39.0      0      0            PC 17758  108.9000  C105        C  \n",
       "415    male  38.5      0      0  SOTON/O.Q. 3101262    7.2500   NaN        S  \n",
       "416    male   NaN      0      0              359309    8.0500   NaN        S  \n",
       "417    male   NaN      1      1                2668   22.3583   NaN        C  \n",
       "\n",
       "[418 rows x 11 columns]"
      ]
     },
     "execution_count": 173,
     "metadata": {},
     "output_type": "execute_result"
    }
   ],
   "source": [
    "test_data"
   ]
  },
  {
   "cell_type": "markdown",
   "id": "d408658a",
   "metadata": {},
   "source": [
    "# Feature Engineering & Filling Missing Values"
   ]
  },
  {
   "cell_type": "markdown",
   "id": "addc67dd",
   "metadata": {},
   "source": [
    "Let's find all missing values in train dataset, than in test dataset. They may be different, anyways we have to fill all of them (if we will use all the columns as a features)."
   ]
  },
  {
   "cell_type": "code",
   "execution_count": 174,
   "id": "1c39339d",
   "metadata": {
    "scrolled": false
   },
   "outputs": [
    {
     "data": {
      "text/plain": [
       "PassengerId      0\n",
       "Survived         0\n",
       "Pclass           0\n",
       "Name             0\n",
       "Sex              0\n",
       "Age            177\n",
       "SibSp            0\n",
       "Parch            0\n",
       "Ticket           0\n",
       "Fare             0\n",
       "Cabin          687\n",
       "Embarked         2\n",
       "dtype: int64"
      ]
     },
     "execution_count": 174,
     "metadata": {},
     "output_type": "execute_result"
    }
   ],
   "source": [
    "train_data.isnull().sum()"
   ]
  },
  {
   "cell_type": "code",
   "execution_count": 175,
   "id": "0b949f72",
   "metadata": {},
   "outputs": [
    {
     "data": {
      "text/plain": [
       "PassengerId      0\n",
       "Pclass           0\n",
       "Name             0\n",
       "Sex              0\n",
       "Age             86\n",
       "SibSp            0\n",
       "Parch            0\n",
       "Ticket           0\n",
       "Fare             1\n",
       "Cabin          327\n",
       "Embarked         0\n",
       "dtype: int64"
      ]
     },
     "execution_count": 175,
     "metadata": {},
     "output_type": "execute_result"
    }
   ],
   "source": [
    "test_data.isnull().sum()"
   ]
  },
  {
   "cell_type": "markdown",
   "id": "09e6e4a1",
   "metadata": {},
   "source": [
    "## Embarked "
   ]
  },
  {
   "cell_type": "code",
   "execution_count": 176,
   "id": "14f63962",
   "metadata": {},
   "outputs": [
    {
     "data": {
      "text/plain": [
       "61     NaN\n",
       "829    NaN\n",
       "Name: Embarked, dtype: object"
      ]
     },
     "execution_count": 176,
     "metadata": {},
     "output_type": "execute_result"
    }
   ],
   "source": [
    "train_data.Embarked[train_data.Embarked.isnull() == True]"
   ]
  },
  {
   "cell_type": "code",
   "execution_count": 177,
   "id": "08769c52",
   "metadata": {},
   "outputs": [
    {
     "data": {
      "text/plain": [
       "PassengerId                     62\n",
       "Survived                         1\n",
       "Pclass                           1\n",
       "Name           Icard, Miss. Amelie\n",
       "Sex                         female\n",
       "Age                           38.0\n",
       "SibSp                            0\n",
       "Parch                            0\n",
       "Ticket                      113572\n",
       "Fare                          80.0\n",
       "Cabin                          B28\n",
       "Embarked                       NaN\n",
       "Name: 61, dtype: object"
      ]
     },
     "execution_count": 177,
     "metadata": {},
     "output_type": "execute_result"
    }
   ],
   "source": [
    "train_data.loc[61]"
   ]
  },
  {
   "cell_type": "code",
   "execution_count": 178,
   "id": "c94127b1",
   "metadata": {},
   "outputs": [
    {
     "data": {
      "text/plain": [
       "PassengerId                                          830\n",
       "Survived                                               1\n",
       "Pclass                                                 1\n",
       "Name           Stone, Mrs. George Nelson (Martha Evelyn)\n",
       "Sex                                               female\n",
       "Age                                                 62.0\n",
       "SibSp                                                  0\n",
       "Parch                                                  0\n",
       "Ticket                                            113572\n",
       "Fare                                                80.0\n",
       "Cabin                                                B28\n",
       "Embarked                                             NaN\n",
       "Name: 829, dtype: object"
      ]
     },
     "execution_count": 178,
     "metadata": {},
     "output_type": "execute_result"
    }
   ],
   "source": [
    "train_data.loc[829]"
   ]
  },
  {
   "cell_type": "markdown",
   "id": "21fda981",
   "metadata": {},
   "source": [
    "As you can see, these two women have no information in Embarked field, but fortunately they have any other data. Let's explore where all first class passengers embarked. "
   ]
  },
  {
   "cell_type": "code",
   "execution_count": 179,
   "id": "9df2051b",
   "metadata": {},
   "outputs": [
    {
     "data": {
      "text/plain": [
       "count     142\n",
       "unique      3\n",
       "top         C\n",
       "freq       71\n",
       "Name: Embarked, dtype: object"
      ]
     },
     "execution_count": 179,
     "metadata": {},
     "output_type": "execute_result"
    }
   ],
   "source": [
    "full_Embarked = pd.concat([train_data[(train_data.Pclass == 1) & (train_data.Sex == 'female')].Embarked,\n",
    "                    test_data[(test_data.Pclass == 1) & (test_data.Sex == 'female')].Embarked], ignore_index=False)\n",
    "full_Embarked.describe()"
   ]
  },
  {
   "cell_type": "markdown",
   "id": "e39c8760",
   "metadata": {},
   "source": [
    "So, let our two women also embarked at Cherbourg."
   ]
  },
  {
   "cell_type": "code",
   "execution_count": 180,
   "id": "5eba1cf6",
   "metadata": {},
   "outputs": [],
   "source": [
    "train_data['Embarked_Imputed'] = train_data.Embarked.isnull().astype('int')\n",
    "test_data['Embarked_Imputed'] = test_data.Embarked.isnull().astype('int')"
   ]
  },
  {
   "cell_type": "code",
   "execution_count": 181,
   "id": "c9edf2f5",
   "metadata": {},
   "outputs": [],
   "source": [
    "train_data.Embarked.fillna('C', inplace=True)"
   ]
  },
  {
   "cell_type": "code",
   "execution_count": 182,
   "id": "84246b70",
   "metadata": {},
   "outputs": [
    {
     "data": {
      "text/plain": [
       "False"
      ]
     },
     "execution_count": 182,
     "metadata": {},
     "output_type": "execute_result"
    }
   ],
   "source": [
    "train_data.Embarked.isnull().any()"
   ]
  },
  {
   "cell_type": "markdown",
   "id": "f89d924a",
   "metadata": {},
   "source": [
    "## Name"
   ]
  },
  {
   "cell_type": "code",
   "execution_count": 183,
   "id": "67d61bc2",
   "metadata": {},
   "outputs": [],
   "source": [
    "full_Name = pd.concat([train_data.Name, test_data.Name])"
   ]
  },
  {
   "cell_type": "code",
   "execution_count": 184,
   "id": "fdbea91d",
   "metadata": {
    "scrolled": true
   },
   "outputs": [
    {
     "data": {
      "text/plain": [
       "{'Capt',\n",
       " 'Col',\n",
       " 'Don',\n",
       " 'Dona',\n",
       " 'Dr',\n",
       " 'Jonkheer',\n",
       " 'Lady',\n",
       " 'Major',\n",
       " 'Master',\n",
       " 'Miss',\n",
       " 'Mlle',\n",
       " 'Mme',\n",
       " 'Mr',\n",
       " 'Mrs',\n",
       " 'Ms',\n",
       " 'Rev',\n",
       " 'Sir',\n",
       " 'the Countess'}"
      ]
     },
     "execution_count": 184,
     "metadata": {},
     "output_type": "execute_result"
    }
   ],
   "source": [
    "prefixes = set()\n",
    "for string in full_Name:\n",
    "    prefix = string[string.find(',') + 2:string.find('.')]\n",
    "    prefixes.add(prefix)\n",
    "\n",
    "prefixes"
   ]
  },
  {
   "cell_type": "markdown",
   "id": "9befd624",
   "metadata": {},
   "source": [
    "1. Col - colonel \n",
    "2. Major \n",
    "3. Capt - capitan \n",
    "\n",
    "\n",
    "1. the Countess\n",
    "2. Lady, Sir, Mme, \n",
    "3. Don, Dona, Jonkheer, Mr, Miss, Mlle, Mrs, Ms\n",
    "\n",
    "\n",
    "1. Dr - doctor\n",
    "2. Master - boy\n",
    "3. Rev - man of church "
   ]
  },
  {
   "cell_type": "code",
   "execution_count": 185,
   "id": "ae528158",
   "metadata": {},
   "outputs": [],
   "source": [
    "titul_1, titul_2 = ['Col', 'Major', 'Capt', 'the Countess'], ['Lady', 'Sir', 'Mme']"
   ]
  },
  {
   "cell_type": "markdown",
   "id": "4240ab55",
   "metadata": {},
   "source": [
    "I will work with \"Master\" prefix, because it can say a lot about Age, even if Age value is NaN. Also I decided to add new feature called Titul to take into account the social status of each passenger. "
   ]
  },
  {
   "cell_type": "code",
   "execution_count": 186,
   "id": "4757509b",
   "metadata": {},
   "outputs": [],
   "source": [
    "train_data.insert(6, 'BoyOrWoman', 0)\n",
    "train_data.insert(4, 'Titul', 3)"
   ]
  },
  {
   "cell_type": "code",
   "execution_count": 187,
   "id": "7041eb60",
   "metadata": {},
   "outputs": [],
   "source": [
    "for i in range(train_data.shape[0]):\n",
    "    if train_data.Name[i].find('Master') != -1 or train_data.Sex[i] == 'female':\n",
    "        train_data.at[i, 'BoyOrWoman'] = 1"
   ]
  },
  {
   "cell_type": "code",
   "execution_count": 188,
   "id": "db76c8c0",
   "metadata": {},
   "outputs": [],
   "source": [
    "for i in range(train_data.shape[0]):\n",
    "    for first in titul_1:\n",
    "        if train_data.Name[i].find(first) != -1:\n",
    "            train_data.at[i, 'Titul'] = 1\n",
    "    for second in titul_2:\n",
    "        if train_data.Name[i].find(second) != -1:\n",
    "            train_data.at[i, 'Titul'] = 2"
   ]
  },
  {
   "cell_type": "code",
   "execution_count": 189,
   "id": "97eeffa7",
   "metadata": {
    "scrolled": false
   },
   "outputs": [
    {
     "data": {
      "text/html": [
       "<div>\n",
       "<style scoped>\n",
       "    .dataframe tbody tr th:only-of-type {\n",
       "        vertical-align: middle;\n",
       "    }\n",
       "\n",
       "    .dataframe tbody tr th {\n",
       "        vertical-align: top;\n",
       "    }\n",
       "\n",
       "    .dataframe thead th {\n",
       "        text-align: right;\n",
       "    }\n",
       "</style>\n",
       "<table border=\"1\" class=\"dataframe\">\n",
       "  <thead>\n",
       "    <tr style=\"text-align: right;\">\n",
       "      <th></th>\n",
       "      <th>PassengerId</th>\n",
       "      <th>Survived</th>\n",
       "      <th>Pclass</th>\n",
       "      <th>Name</th>\n",
       "      <th>Titul</th>\n",
       "      <th>Sex</th>\n",
       "      <th>Age</th>\n",
       "      <th>BoyOrWoman</th>\n",
       "      <th>SibSp</th>\n",
       "      <th>Parch</th>\n",
       "      <th>Ticket</th>\n",
       "      <th>Fare</th>\n",
       "      <th>Cabin</th>\n",
       "      <th>Embarked</th>\n",
       "      <th>Embarked_Imputed</th>\n",
       "    </tr>\n",
       "  </thead>\n",
       "  <tbody>\n",
       "    <tr>\n",
       "      <th>0</th>\n",
       "      <td>1</td>\n",
       "      <td>0</td>\n",
       "      <td>3</td>\n",
       "      <td>Braund, Mr. Owen Harris</td>\n",
       "      <td>3</td>\n",
       "      <td>male</td>\n",
       "      <td>22.0</td>\n",
       "      <td>0</td>\n",
       "      <td>1</td>\n",
       "      <td>0</td>\n",
       "      <td>A/5 21171</td>\n",
       "      <td>7.2500</td>\n",
       "      <td>NaN</td>\n",
       "      <td>S</td>\n",
       "      <td>0</td>\n",
       "    </tr>\n",
       "    <tr>\n",
       "      <th>1</th>\n",
       "      <td>2</td>\n",
       "      <td>1</td>\n",
       "      <td>1</td>\n",
       "      <td>Cumings, Mrs. John Bradley (Florence Briggs Th...</td>\n",
       "      <td>3</td>\n",
       "      <td>female</td>\n",
       "      <td>38.0</td>\n",
       "      <td>1</td>\n",
       "      <td>1</td>\n",
       "      <td>0</td>\n",
       "      <td>PC 17599</td>\n",
       "      <td>71.2833</td>\n",
       "      <td>C85</td>\n",
       "      <td>C</td>\n",
       "      <td>0</td>\n",
       "    </tr>\n",
       "    <tr>\n",
       "      <th>2</th>\n",
       "      <td>3</td>\n",
       "      <td>1</td>\n",
       "      <td>3</td>\n",
       "      <td>Heikkinen, Miss. Laina</td>\n",
       "      <td>3</td>\n",
       "      <td>female</td>\n",
       "      <td>26.0</td>\n",
       "      <td>1</td>\n",
       "      <td>0</td>\n",
       "      <td>0</td>\n",
       "      <td>STON/O2. 3101282</td>\n",
       "      <td>7.9250</td>\n",
       "      <td>NaN</td>\n",
       "      <td>S</td>\n",
       "      <td>0</td>\n",
       "    </tr>\n",
       "    <tr>\n",
       "      <th>3</th>\n",
       "      <td>4</td>\n",
       "      <td>1</td>\n",
       "      <td>1</td>\n",
       "      <td>Futrelle, Mrs. Jacques Heath (Lily May Peel)</td>\n",
       "      <td>3</td>\n",
       "      <td>female</td>\n",
       "      <td>35.0</td>\n",
       "      <td>1</td>\n",
       "      <td>1</td>\n",
       "      <td>0</td>\n",
       "      <td>113803</td>\n",
       "      <td>53.1000</td>\n",
       "      <td>C123</td>\n",
       "      <td>S</td>\n",
       "      <td>0</td>\n",
       "    </tr>\n",
       "    <tr>\n",
       "      <th>4</th>\n",
       "      <td>5</td>\n",
       "      <td>0</td>\n",
       "      <td>3</td>\n",
       "      <td>Allen, Mr. William Henry</td>\n",
       "      <td>3</td>\n",
       "      <td>male</td>\n",
       "      <td>35.0</td>\n",
       "      <td>0</td>\n",
       "      <td>0</td>\n",
       "      <td>0</td>\n",
       "      <td>373450</td>\n",
       "      <td>8.0500</td>\n",
       "      <td>NaN</td>\n",
       "      <td>S</td>\n",
       "      <td>0</td>\n",
       "    </tr>\n",
       "    <tr>\n",
       "      <th>...</th>\n",
       "      <td>...</td>\n",
       "      <td>...</td>\n",
       "      <td>...</td>\n",
       "      <td>...</td>\n",
       "      <td>...</td>\n",
       "      <td>...</td>\n",
       "      <td>...</td>\n",
       "      <td>...</td>\n",
       "      <td>...</td>\n",
       "      <td>...</td>\n",
       "      <td>...</td>\n",
       "      <td>...</td>\n",
       "      <td>...</td>\n",
       "      <td>...</td>\n",
       "      <td>...</td>\n",
       "    </tr>\n",
       "    <tr>\n",
       "      <th>886</th>\n",
       "      <td>887</td>\n",
       "      <td>0</td>\n",
       "      <td>2</td>\n",
       "      <td>Montvila, Rev. Juozas</td>\n",
       "      <td>3</td>\n",
       "      <td>male</td>\n",
       "      <td>27.0</td>\n",
       "      <td>0</td>\n",
       "      <td>0</td>\n",
       "      <td>0</td>\n",
       "      <td>211536</td>\n",
       "      <td>13.0000</td>\n",
       "      <td>NaN</td>\n",
       "      <td>S</td>\n",
       "      <td>0</td>\n",
       "    </tr>\n",
       "    <tr>\n",
       "      <th>887</th>\n",
       "      <td>888</td>\n",
       "      <td>1</td>\n",
       "      <td>1</td>\n",
       "      <td>Graham, Miss. Margaret Edith</td>\n",
       "      <td>3</td>\n",
       "      <td>female</td>\n",
       "      <td>19.0</td>\n",
       "      <td>1</td>\n",
       "      <td>0</td>\n",
       "      <td>0</td>\n",
       "      <td>112053</td>\n",
       "      <td>30.0000</td>\n",
       "      <td>B42</td>\n",
       "      <td>S</td>\n",
       "      <td>0</td>\n",
       "    </tr>\n",
       "    <tr>\n",
       "      <th>888</th>\n",
       "      <td>889</td>\n",
       "      <td>0</td>\n",
       "      <td>3</td>\n",
       "      <td>Johnston, Miss. Catherine Helen \"Carrie\"</td>\n",
       "      <td>3</td>\n",
       "      <td>female</td>\n",
       "      <td>NaN</td>\n",
       "      <td>1</td>\n",
       "      <td>1</td>\n",
       "      <td>2</td>\n",
       "      <td>W./C. 6607</td>\n",
       "      <td>23.4500</td>\n",
       "      <td>NaN</td>\n",
       "      <td>S</td>\n",
       "      <td>0</td>\n",
       "    </tr>\n",
       "    <tr>\n",
       "      <th>889</th>\n",
       "      <td>890</td>\n",
       "      <td>1</td>\n",
       "      <td>1</td>\n",
       "      <td>Behr, Mr. Karl Howell</td>\n",
       "      <td>3</td>\n",
       "      <td>male</td>\n",
       "      <td>26.0</td>\n",
       "      <td>0</td>\n",
       "      <td>0</td>\n",
       "      <td>0</td>\n",
       "      <td>111369</td>\n",
       "      <td>30.0000</td>\n",
       "      <td>C148</td>\n",
       "      <td>C</td>\n",
       "      <td>0</td>\n",
       "    </tr>\n",
       "    <tr>\n",
       "      <th>890</th>\n",
       "      <td>891</td>\n",
       "      <td>0</td>\n",
       "      <td>3</td>\n",
       "      <td>Dooley, Mr. Patrick</td>\n",
       "      <td>3</td>\n",
       "      <td>male</td>\n",
       "      <td>32.0</td>\n",
       "      <td>0</td>\n",
       "      <td>0</td>\n",
       "      <td>0</td>\n",
       "      <td>370376</td>\n",
       "      <td>7.7500</td>\n",
       "      <td>NaN</td>\n",
       "      <td>Q</td>\n",
       "      <td>0</td>\n",
       "    </tr>\n",
       "  </tbody>\n",
       "</table>\n",
       "<p>891 rows × 15 columns</p>\n",
       "</div>"
      ],
      "text/plain": [
       "     PassengerId  Survived  Pclass  \\\n",
       "0              1         0       3   \n",
       "1              2         1       1   \n",
       "2              3         1       3   \n",
       "3              4         1       1   \n",
       "4              5         0       3   \n",
       "..           ...       ...     ...   \n",
       "886          887         0       2   \n",
       "887          888         1       1   \n",
       "888          889         0       3   \n",
       "889          890         1       1   \n",
       "890          891         0       3   \n",
       "\n",
       "                                                  Name  Titul     Sex   Age  \\\n",
       "0                              Braund, Mr. Owen Harris      3    male  22.0   \n",
       "1    Cumings, Mrs. John Bradley (Florence Briggs Th...      3  female  38.0   \n",
       "2                               Heikkinen, Miss. Laina      3  female  26.0   \n",
       "3         Futrelle, Mrs. Jacques Heath (Lily May Peel)      3  female  35.0   \n",
       "4                             Allen, Mr. William Henry      3    male  35.0   \n",
       "..                                                 ...    ...     ...   ...   \n",
       "886                              Montvila, Rev. Juozas      3    male  27.0   \n",
       "887                       Graham, Miss. Margaret Edith      3  female  19.0   \n",
       "888           Johnston, Miss. Catherine Helen \"Carrie\"      3  female   NaN   \n",
       "889                              Behr, Mr. Karl Howell      3    male  26.0   \n",
       "890                                Dooley, Mr. Patrick      3    male  32.0   \n",
       "\n",
       "     BoyOrWoman  SibSp  Parch            Ticket     Fare Cabin Embarked  \\\n",
       "0             0      1      0         A/5 21171   7.2500   NaN        S   \n",
       "1             1      1      0          PC 17599  71.2833   C85        C   \n",
       "2             1      0      0  STON/O2. 3101282   7.9250   NaN        S   \n",
       "3             1      1      0            113803  53.1000  C123        S   \n",
       "4             0      0      0            373450   8.0500   NaN        S   \n",
       "..          ...    ...    ...               ...      ...   ...      ...   \n",
       "886           0      0      0            211536  13.0000   NaN        S   \n",
       "887           1      0      0            112053  30.0000   B42        S   \n",
       "888           1      1      2        W./C. 6607  23.4500   NaN        S   \n",
       "889           0      0      0            111369  30.0000  C148        C   \n",
       "890           0      0      0            370376   7.7500   NaN        Q   \n",
       "\n",
       "     Embarked_Imputed  \n",
       "0                   0  \n",
       "1                   0  \n",
       "2                   0  \n",
       "3                   0  \n",
       "4                   0  \n",
       "..                ...  \n",
       "886                 0  \n",
       "887                 0  \n",
       "888                 0  \n",
       "889                 0  \n",
       "890                 0  \n",
       "\n",
       "[891 rows x 15 columns]"
      ]
     },
     "execution_count": 189,
     "metadata": {},
     "output_type": "execute_result"
    }
   ],
   "source": [
    "train_data"
   ]
  },
  {
   "cell_type": "code",
   "execution_count": 190,
   "id": "b89050d6",
   "metadata": {},
   "outputs": [],
   "source": [
    "test_data.insert(5, 'BoyOrWoman', 0)\n",
    "test_data.insert(3, 'Titul', 3)"
   ]
  },
  {
   "cell_type": "code",
   "execution_count": 191,
   "id": "784fda5c",
   "metadata": {},
   "outputs": [],
   "source": [
    "for i in range(test_data.shape[0]):\n",
    "    if test_data.Name[i].find('Master') != -1 or test_data.Sex[i] == 'female':\n",
    "        test_data.at[i, 'BoyOrWoman'] = 1"
   ]
  },
  {
   "cell_type": "code",
   "execution_count": 192,
   "id": "debef2fb",
   "metadata": {},
   "outputs": [],
   "source": [
    "for i in range(test_data.shape[0]):\n",
    "    for first in titul_1:\n",
    "        if test_data.Name[i].find(first) != -1:\n",
    "            test_data.at[i, 'Titul'] = 1\n",
    "    for second in titul_2:\n",
    "        if test_data.Name[i].find(second) != -1:\n",
    "            test_data.at[i, 'Titul'] = 2"
   ]
  },
  {
   "cell_type": "code",
   "execution_count": 193,
   "id": "858fb117",
   "metadata": {
    "scrolled": false
   },
   "outputs": [
    {
     "data": {
      "text/html": [
       "<div>\n",
       "<style scoped>\n",
       "    .dataframe tbody tr th:only-of-type {\n",
       "        vertical-align: middle;\n",
       "    }\n",
       "\n",
       "    .dataframe tbody tr th {\n",
       "        vertical-align: top;\n",
       "    }\n",
       "\n",
       "    .dataframe thead th {\n",
       "        text-align: right;\n",
       "    }\n",
       "</style>\n",
       "<table border=\"1\" class=\"dataframe\">\n",
       "  <thead>\n",
       "    <tr style=\"text-align: right;\">\n",
       "      <th></th>\n",
       "      <th>PassengerId</th>\n",
       "      <th>Pclass</th>\n",
       "      <th>Name</th>\n",
       "      <th>Titul</th>\n",
       "      <th>Sex</th>\n",
       "      <th>Age</th>\n",
       "      <th>BoyOrWoman</th>\n",
       "      <th>SibSp</th>\n",
       "      <th>Parch</th>\n",
       "      <th>Ticket</th>\n",
       "      <th>Fare</th>\n",
       "      <th>Cabin</th>\n",
       "      <th>Embarked</th>\n",
       "      <th>Embarked_Imputed</th>\n",
       "    </tr>\n",
       "  </thead>\n",
       "  <tbody>\n",
       "    <tr>\n",
       "      <th>0</th>\n",
       "      <td>892</td>\n",
       "      <td>3</td>\n",
       "      <td>Kelly, Mr. James</td>\n",
       "      <td>3</td>\n",
       "      <td>male</td>\n",
       "      <td>34.5</td>\n",
       "      <td>0</td>\n",
       "      <td>0</td>\n",
       "      <td>0</td>\n",
       "      <td>330911</td>\n",
       "      <td>7.8292</td>\n",
       "      <td>NaN</td>\n",
       "      <td>Q</td>\n",
       "      <td>0</td>\n",
       "    </tr>\n",
       "    <tr>\n",
       "      <th>1</th>\n",
       "      <td>893</td>\n",
       "      <td>3</td>\n",
       "      <td>Wilkes, Mrs. James (Ellen Needs)</td>\n",
       "      <td>3</td>\n",
       "      <td>female</td>\n",
       "      <td>47.0</td>\n",
       "      <td>1</td>\n",
       "      <td>1</td>\n",
       "      <td>0</td>\n",
       "      <td>363272</td>\n",
       "      <td>7.0000</td>\n",
       "      <td>NaN</td>\n",
       "      <td>S</td>\n",
       "      <td>0</td>\n",
       "    </tr>\n",
       "    <tr>\n",
       "      <th>2</th>\n",
       "      <td>894</td>\n",
       "      <td>2</td>\n",
       "      <td>Myles, Mr. Thomas Francis</td>\n",
       "      <td>3</td>\n",
       "      <td>male</td>\n",
       "      <td>62.0</td>\n",
       "      <td>0</td>\n",
       "      <td>0</td>\n",
       "      <td>0</td>\n",
       "      <td>240276</td>\n",
       "      <td>9.6875</td>\n",
       "      <td>NaN</td>\n",
       "      <td>Q</td>\n",
       "      <td>0</td>\n",
       "    </tr>\n",
       "    <tr>\n",
       "      <th>3</th>\n",
       "      <td>895</td>\n",
       "      <td>3</td>\n",
       "      <td>Wirz, Mr. Albert</td>\n",
       "      <td>3</td>\n",
       "      <td>male</td>\n",
       "      <td>27.0</td>\n",
       "      <td>0</td>\n",
       "      <td>0</td>\n",
       "      <td>0</td>\n",
       "      <td>315154</td>\n",
       "      <td>8.6625</td>\n",
       "      <td>NaN</td>\n",
       "      <td>S</td>\n",
       "      <td>0</td>\n",
       "    </tr>\n",
       "    <tr>\n",
       "      <th>4</th>\n",
       "      <td>896</td>\n",
       "      <td>3</td>\n",
       "      <td>Hirvonen, Mrs. Alexander (Helga E Lindqvist)</td>\n",
       "      <td>3</td>\n",
       "      <td>female</td>\n",
       "      <td>22.0</td>\n",
       "      <td>1</td>\n",
       "      <td>1</td>\n",
       "      <td>1</td>\n",
       "      <td>3101298</td>\n",
       "      <td>12.2875</td>\n",
       "      <td>NaN</td>\n",
       "      <td>S</td>\n",
       "      <td>0</td>\n",
       "    </tr>\n",
       "    <tr>\n",
       "      <th>...</th>\n",
       "      <td>...</td>\n",
       "      <td>...</td>\n",
       "      <td>...</td>\n",
       "      <td>...</td>\n",
       "      <td>...</td>\n",
       "      <td>...</td>\n",
       "      <td>...</td>\n",
       "      <td>...</td>\n",
       "      <td>...</td>\n",
       "      <td>...</td>\n",
       "      <td>...</td>\n",
       "      <td>...</td>\n",
       "      <td>...</td>\n",
       "      <td>...</td>\n",
       "    </tr>\n",
       "    <tr>\n",
       "      <th>413</th>\n",
       "      <td>1305</td>\n",
       "      <td>3</td>\n",
       "      <td>Spector, Mr. Woolf</td>\n",
       "      <td>3</td>\n",
       "      <td>male</td>\n",
       "      <td>NaN</td>\n",
       "      <td>0</td>\n",
       "      <td>0</td>\n",
       "      <td>0</td>\n",
       "      <td>A.5. 3236</td>\n",
       "      <td>8.0500</td>\n",
       "      <td>NaN</td>\n",
       "      <td>S</td>\n",
       "      <td>0</td>\n",
       "    </tr>\n",
       "    <tr>\n",
       "      <th>414</th>\n",
       "      <td>1306</td>\n",
       "      <td>1</td>\n",
       "      <td>Oliva y Ocana, Dona. Fermina</td>\n",
       "      <td>3</td>\n",
       "      <td>female</td>\n",
       "      <td>39.0</td>\n",
       "      <td>1</td>\n",
       "      <td>0</td>\n",
       "      <td>0</td>\n",
       "      <td>PC 17758</td>\n",
       "      <td>108.9000</td>\n",
       "      <td>C105</td>\n",
       "      <td>C</td>\n",
       "      <td>0</td>\n",
       "    </tr>\n",
       "    <tr>\n",
       "      <th>415</th>\n",
       "      <td>1307</td>\n",
       "      <td>3</td>\n",
       "      <td>Saether, Mr. Simon Sivertsen</td>\n",
       "      <td>3</td>\n",
       "      <td>male</td>\n",
       "      <td>38.5</td>\n",
       "      <td>0</td>\n",
       "      <td>0</td>\n",
       "      <td>0</td>\n",
       "      <td>SOTON/O.Q. 3101262</td>\n",
       "      <td>7.2500</td>\n",
       "      <td>NaN</td>\n",
       "      <td>S</td>\n",
       "      <td>0</td>\n",
       "    </tr>\n",
       "    <tr>\n",
       "      <th>416</th>\n",
       "      <td>1308</td>\n",
       "      <td>3</td>\n",
       "      <td>Ware, Mr. Frederick</td>\n",
       "      <td>3</td>\n",
       "      <td>male</td>\n",
       "      <td>NaN</td>\n",
       "      <td>0</td>\n",
       "      <td>0</td>\n",
       "      <td>0</td>\n",
       "      <td>359309</td>\n",
       "      <td>8.0500</td>\n",
       "      <td>NaN</td>\n",
       "      <td>S</td>\n",
       "      <td>0</td>\n",
       "    </tr>\n",
       "    <tr>\n",
       "      <th>417</th>\n",
       "      <td>1309</td>\n",
       "      <td>3</td>\n",
       "      <td>Peter, Master. Michael J</td>\n",
       "      <td>3</td>\n",
       "      <td>male</td>\n",
       "      <td>NaN</td>\n",
       "      <td>1</td>\n",
       "      <td>1</td>\n",
       "      <td>1</td>\n",
       "      <td>2668</td>\n",
       "      <td>22.3583</td>\n",
       "      <td>NaN</td>\n",
       "      <td>C</td>\n",
       "      <td>0</td>\n",
       "    </tr>\n",
       "  </tbody>\n",
       "</table>\n",
       "<p>418 rows × 14 columns</p>\n",
       "</div>"
      ],
      "text/plain": [
       "     PassengerId  Pclass                                          Name  Titul  \\\n",
       "0            892       3                              Kelly, Mr. James      3   \n",
       "1            893       3              Wilkes, Mrs. James (Ellen Needs)      3   \n",
       "2            894       2                     Myles, Mr. Thomas Francis      3   \n",
       "3            895       3                              Wirz, Mr. Albert      3   \n",
       "4            896       3  Hirvonen, Mrs. Alexander (Helga E Lindqvist)      3   \n",
       "..           ...     ...                                           ...    ...   \n",
       "413         1305       3                            Spector, Mr. Woolf      3   \n",
       "414         1306       1                  Oliva y Ocana, Dona. Fermina      3   \n",
       "415         1307       3                  Saether, Mr. Simon Sivertsen      3   \n",
       "416         1308       3                           Ware, Mr. Frederick      3   \n",
       "417         1309       3                      Peter, Master. Michael J      3   \n",
       "\n",
       "        Sex   Age  BoyOrWoman  SibSp  Parch              Ticket      Fare  \\\n",
       "0      male  34.5           0      0      0              330911    7.8292   \n",
       "1    female  47.0           1      1      0              363272    7.0000   \n",
       "2      male  62.0           0      0      0              240276    9.6875   \n",
       "3      male  27.0           0      0      0              315154    8.6625   \n",
       "4    female  22.0           1      1      1             3101298   12.2875   \n",
       "..      ...   ...         ...    ...    ...                 ...       ...   \n",
       "413    male   NaN           0      0      0           A.5. 3236    8.0500   \n",
       "414  female  39.0           1      0      0            PC 17758  108.9000   \n",
       "415    male  38.5           0      0      0  SOTON/O.Q. 3101262    7.2500   \n",
       "416    male   NaN           0      0      0              359309    8.0500   \n",
       "417    male   NaN           1      1      1                2668   22.3583   \n",
       "\n",
       "    Cabin Embarked  Embarked_Imputed  \n",
       "0     NaN        Q                 0  \n",
       "1     NaN        S                 0  \n",
       "2     NaN        Q                 0  \n",
       "3     NaN        S                 0  \n",
       "4     NaN        S                 0  \n",
       "..    ...      ...               ...  \n",
       "413   NaN        S                 0  \n",
       "414  C105        C                 0  \n",
       "415   NaN        S                 0  \n",
       "416   NaN        S                 0  \n",
       "417   NaN        C                 0  \n",
       "\n",
       "[418 rows x 14 columns]"
      ]
     },
     "execution_count": 193,
     "metadata": {},
     "output_type": "execute_result"
    }
   ],
   "source": [
    "test_data"
   ]
  },
  {
   "cell_type": "markdown",
   "id": "f8383d06",
   "metadata": {},
   "source": [
    "## Fare"
   ]
  },
  {
   "cell_type": "markdown",
   "id": "6098f07d",
   "metadata": {},
   "source": [
    "There are some \"0\" values in Fare column in train and test datasets for many reasons. I decided to predict missing or zero values. As a features I will use other columns such as Age, Titul, Pclass, etc. And because of a lot of NaN values in an Age column, I will drop all rows with it in order to fit and train model on a clean data."
   ]
  },
  {
   "cell_type": "markdown",
   "id": "7091a9c8",
   "metadata": {},
   "source": [
    "First of all, lets create new dataset which will consist of all rows in a train and test datasets without missing values in an Age column. Before it I will replace all 0 value with NaN."
   ]
  },
  {
   "cell_type": "code",
   "execution_count": 33,
   "id": "8efdc68a",
   "metadata": {},
   "outputs": [],
   "source": [
    "train_data.Fare.replace(0, np.nan, inplace=True)\n",
    "test_data.Fare.replace(0, np.nan, inplace=True)"
   ]
  },
  {
   "cell_type": "code",
   "execution_count": 32,
   "id": "b5535c40",
   "metadata": {},
   "outputs": [
    {
     "data": {
      "text/plain": [
       "179   NaN\n",
       "263   NaN\n",
       "271   NaN\n",
       "277   NaN\n",
       "302   NaN\n",
       "413   NaN\n",
       "466   NaN\n",
       "481   NaN\n",
       "597   NaN\n",
       "633   NaN\n",
       "674   NaN\n",
       "732   NaN\n",
       "806   NaN\n",
       "815   NaN\n",
       "822   NaN\n",
       "Name: Fare, dtype: float64"
      ]
     },
     "execution_count": 32,
     "metadata": {},
     "output_type": "execute_result"
    }
   ],
   "source": [
    "train_data.Fare[train_data.Fare.isnull()]"
   ]
  },
  {
   "cell_type": "code",
   "execution_count": 34,
   "id": "250b83bc",
   "metadata": {},
   "outputs": [
    {
     "data": {
      "text/plain": [
       "152   NaN\n",
       "266   NaN\n",
       "372   NaN\n",
       "Name: Fare, dtype: float64"
      ]
     },
     "execution_count": 34,
     "metadata": {},
     "output_type": "execute_result"
    }
   ],
   "source": [
    "test_data.Fare[test_data.Fare.isnull()]"
   ]
  },
  {
   "cell_type": "code",
   "execution_count": 37,
   "id": "082e594a",
   "metadata": {},
   "outputs": [
    {
     "data": {
      "text/plain": [
       "9"
      ]
     },
     "execution_count": 37,
     "metadata": {},
     "output_type": "execute_result"
    }
   ],
   "source": [
    "data_Fare = pd.concat([train_data[~train_data.Age.isnull()],\n",
    "                                              test_data[~test_data.Age.isnull()]], ignore_index=True)\n",
    "data_Fare.Fare.isnull().sum()"
   ]
  },
  {
   "cell_type": "markdown",
   "id": "e9b5460d",
   "metadata": {},
   "source": [
    "Our prediction target is values in a Fare column. As a feature I will use all standart features without Fare, of course."
   ]
  },
  {
   "cell_type": "code",
   "execution_count": 36,
   "id": "0da4b736",
   "metadata": {},
   "outputs": [
    {
     "data": {
      "text/plain": [
       "0         7.2500\n",
       "1        71.2833\n",
       "2         7.9250\n",
       "3        53.1000\n",
       "4         8.0500\n",
       "          ...   \n",
       "1041     13.7750\n",
       "1042     90.0000\n",
       "1043      7.7750\n",
       "1044    108.9000\n",
       "1045      7.2500\n",
       "Name: Fare, Length: 1037, dtype: float64"
      ]
     },
     "execution_count": 36,
     "metadata": {},
     "output_type": "execute_result"
    }
   ],
   "source": [
    "y_Fare = data_Fare.Fare[~data_Fare.Fare.isnull()]\n",
    "y_Fare"
   ]
  },
  {
   "cell_type": "code",
   "execution_count": 64,
   "id": "e6862431",
   "metadata": {},
   "outputs": [],
   "source": [
    "mean = pd.concat([train_data.Fare[train_data.Fare != 0],\n",
    "                         test_data.Fare[test_data.Fare != 0]]).mean()"
   ]
  },
  {
   "cell_type": "code",
   "execution_count": 65,
   "id": "29103a41",
   "metadata": {},
   "outputs": [
    {
     "data": {
      "text/plain": [
       "179    0.0\n",
       "263    0.0\n",
       "271    0.0\n",
       "277    0.0\n",
       "302    0.0\n",
       "413    0.0\n",
       "466    0.0\n",
       "481    0.0\n",
       "597    0.0\n",
       "633    0.0\n",
       "674    0.0\n",
       "732    0.0\n",
       "806    0.0\n",
       "815    0.0\n",
       "822    0.0\n",
       "Name: Fare, dtype: float64"
      ]
     },
     "execution_count": 65,
     "metadata": {},
     "output_type": "execute_result"
    }
   ],
   "source": [
    "train_data.Fare[train_data.Fare == 0]"
   ]
  },
  {
   "cell_type": "code",
   "execution_count": 66,
   "id": "761869f9",
   "metadata": {},
   "outputs": [],
   "source": [
    "train_data['Fare_Imputed'] = [0 if i not in train_data.Fare[train_data.Fare == 0].index else 1 for i in range(891)]"
   ]
  },
  {
   "cell_type": "code",
   "execution_count": 67,
   "id": "a38e33b6",
   "metadata": {},
   "outputs": [
    {
     "data": {
      "text/plain": [
       "266    0.0\n",
       "372    0.0\n",
       "Name: Fare, dtype: float64"
      ]
     },
     "execution_count": 67,
     "metadata": {},
     "output_type": "execute_result"
    }
   ],
   "source": [
    "test_data.Fare[test_data.Fare == 0]"
   ]
  },
  {
   "cell_type": "code",
   "execution_count": 68,
   "id": "48a7cab0",
   "metadata": {},
   "outputs": [],
   "source": [
    "test_data['Fare_Imputed'] = [0 if (i not in test_data.Fare[test_data.Fare == 0].index) and (test_data.Fare[i] != np.nan)\n",
    "                             else 1 for i in range(418)]"
   ]
  },
  {
   "cell_type": "code",
   "execution_count": 69,
   "id": "99d201e8",
   "metadata": {},
   "outputs": [],
   "source": [
    "train_data.Fare.replace(0, mean, inplace=True)\n",
    "test_data.Fare.replace(0, mean, inplace=True)\n",
    "test_data.Fare.fillna(mean, inplace=True)"
   ]
  },
  {
   "cell_type": "code",
   "execution_count": 70,
   "id": "5f653d3a",
   "metadata": {},
   "outputs": [
    {
     "data": {
      "text/plain": [
       "False"
      ]
     },
     "execution_count": 70,
     "metadata": {},
     "output_type": "execute_result"
    }
   ],
   "source": [
    "test_data.Fare.isnull().any()"
   ]
  },
  {
   "cell_type": "code",
   "execution_count": 71,
   "id": "28d1b279",
   "metadata": {},
   "outputs": [
    {
     "data": {
      "text/plain": [
       "count    418.000000\n",
       "mean      35.784065\n",
       "std       55.785974\n",
       "min        3.170800\n",
       "25%        7.895800\n",
       "50%       14.479150\n",
       "75%       31.634400\n",
       "max      512.329200\n",
       "Name: Fare, dtype: float64"
      ]
     },
     "execution_count": 71,
     "metadata": {},
     "output_type": "execute_result"
    }
   ],
   "source": [
    "test_data.Fare.describe()"
   ]
  },
  {
   "cell_type": "code",
   "execution_count": 72,
   "id": "3ceb45cd",
   "metadata": {
    "scrolled": true
   },
   "outputs": [
    {
     "data": {
      "text/plain": [
       "count    891.000000\n",
       "mean      32.772119\n",
       "std       49.514382\n",
       "min        4.012500\n",
       "25%        7.925000\n",
       "50%       15.100000\n",
       "75%       33.000000\n",
       "max      512.329200\n",
       "Name: Fare, dtype: float64"
      ]
     },
     "execution_count": 72,
     "metadata": {},
     "output_type": "execute_result"
    }
   ],
   "source": [
    "train_data.Fare.describe()"
   ]
  },
  {
   "cell_type": "markdown",
   "id": "9c06efeb",
   "metadata": {},
   "source": [
    "## Age"
   ]
  },
  {
   "cell_type": "markdown",
   "id": "2193aeda",
   "metadata": {},
   "source": [
    "Let's build a regression model based on features like Pclass, Fare, Embarked, etc and try to predict missing values in an Age column. "
   ]
  },
  {
   "cell_type": "code",
   "execution_count": 194,
   "id": "b2291bd7",
   "metadata": {},
   "outputs": [],
   "source": [
    "train_data['Age_Imputed'] = train_data.Age.isnull().astype('int')\n",
    "test_data['Age_Imputed'] = test_data.Age.isnull().astype('int')"
   ]
  },
  {
   "cell_type": "code",
   "execution_count": 195,
   "id": "65ef74ee",
   "metadata": {
    "scrolled": false
   },
   "outputs": [
    {
     "data": {
      "text/html": [
       "<div>\n",
       "<style scoped>\n",
       "    .dataframe tbody tr th:only-of-type {\n",
       "        vertical-align: middle;\n",
       "    }\n",
       "\n",
       "    .dataframe tbody tr th {\n",
       "        vertical-align: top;\n",
       "    }\n",
       "\n",
       "    .dataframe thead th {\n",
       "        text-align: right;\n",
       "    }\n",
       "</style>\n",
       "<table border=\"1\" class=\"dataframe\">\n",
       "  <thead>\n",
       "    <tr style=\"text-align: right;\">\n",
       "      <th></th>\n",
       "      <th>Pclass</th>\n",
       "      <th>Titul</th>\n",
       "      <th>BoyOrWoman</th>\n",
       "      <th>Embarked_Imputed</th>\n",
       "      <th>Sex_female</th>\n",
       "      <th>Sex_male</th>\n",
       "      <th>Embarked_C</th>\n",
       "      <th>Embarked_Q</th>\n",
       "      <th>Embarked_S</th>\n",
       "    </tr>\n",
       "  </thead>\n",
       "  <tbody>\n",
       "    <tr>\n",
       "      <th>0</th>\n",
       "      <td>3</td>\n",
       "      <td>3</td>\n",
       "      <td>0</td>\n",
       "      <td>0</td>\n",
       "      <td>0</td>\n",
       "      <td>1</td>\n",
       "      <td>0</td>\n",
       "      <td>0</td>\n",
       "      <td>1</td>\n",
       "    </tr>\n",
       "    <tr>\n",
       "      <th>1</th>\n",
       "      <td>1</td>\n",
       "      <td>3</td>\n",
       "      <td>1</td>\n",
       "      <td>0</td>\n",
       "      <td>1</td>\n",
       "      <td>0</td>\n",
       "      <td>1</td>\n",
       "      <td>0</td>\n",
       "      <td>0</td>\n",
       "    </tr>\n",
       "    <tr>\n",
       "      <th>2</th>\n",
       "      <td>3</td>\n",
       "      <td>3</td>\n",
       "      <td>1</td>\n",
       "      <td>0</td>\n",
       "      <td>1</td>\n",
       "      <td>0</td>\n",
       "      <td>0</td>\n",
       "      <td>0</td>\n",
       "      <td>1</td>\n",
       "    </tr>\n",
       "    <tr>\n",
       "      <th>3</th>\n",
       "      <td>1</td>\n",
       "      <td>3</td>\n",
       "      <td>1</td>\n",
       "      <td>0</td>\n",
       "      <td>1</td>\n",
       "      <td>0</td>\n",
       "      <td>0</td>\n",
       "      <td>0</td>\n",
       "      <td>1</td>\n",
       "    </tr>\n",
       "    <tr>\n",
       "      <th>4</th>\n",
       "      <td>3</td>\n",
       "      <td>3</td>\n",
       "      <td>0</td>\n",
       "      <td>0</td>\n",
       "      <td>0</td>\n",
       "      <td>1</td>\n",
       "      <td>0</td>\n",
       "      <td>0</td>\n",
       "      <td>1</td>\n",
       "    </tr>\n",
       "    <tr>\n",
       "      <th>...</th>\n",
       "      <td>...</td>\n",
       "      <td>...</td>\n",
       "      <td>...</td>\n",
       "      <td>...</td>\n",
       "      <td>...</td>\n",
       "      <td>...</td>\n",
       "      <td>...</td>\n",
       "      <td>...</td>\n",
       "      <td>...</td>\n",
       "    </tr>\n",
       "    <tr>\n",
       "      <th>1041</th>\n",
       "      <td>3</td>\n",
       "      <td>3</td>\n",
       "      <td>1</td>\n",
       "      <td>0</td>\n",
       "      <td>1</td>\n",
       "      <td>0</td>\n",
       "      <td>0</td>\n",
       "      <td>0</td>\n",
       "      <td>1</td>\n",
       "    </tr>\n",
       "    <tr>\n",
       "      <th>1042</th>\n",
       "      <td>1</td>\n",
       "      <td>3</td>\n",
       "      <td>1</td>\n",
       "      <td>0</td>\n",
       "      <td>1</td>\n",
       "      <td>0</td>\n",
       "      <td>0</td>\n",
       "      <td>1</td>\n",
       "      <td>0</td>\n",
       "    </tr>\n",
       "    <tr>\n",
       "      <th>1043</th>\n",
       "      <td>3</td>\n",
       "      <td>3</td>\n",
       "      <td>1</td>\n",
       "      <td>0</td>\n",
       "      <td>1</td>\n",
       "      <td>0</td>\n",
       "      <td>0</td>\n",
       "      <td>0</td>\n",
       "      <td>1</td>\n",
       "    </tr>\n",
       "    <tr>\n",
       "      <th>1044</th>\n",
       "      <td>1</td>\n",
       "      <td>3</td>\n",
       "      <td>1</td>\n",
       "      <td>0</td>\n",
       "      <td>1</td>\n",
       "      <td>0</td>\n",
       "      <td>1</td>\n",
       "      <td>0</td>\n",
       "      <td>0</td>\n",
       "    </tr>\n",
       "    <tr>\n",
       "      <th>1045</th>\n",
       "      <td>3</td>\n",
       "      <td>3</td>\n",
       "      <td>0</td>\n",
       "      <td>0</td>\n",
       "      <td>0</td>\n",
       "      <td>1</td>\n",
       "      <td>0</td>\n",
       "      <td>0</td>\n",
       "      <td>1</td>\n",
       "    </tr>\n",
       "  </tbody>\n",
       "</table>\n",
       "<p>1046 rows × 9 columns</p>\n",
       "</div>"
      ],
      "text/plain": [
       "      Pclass  Titul  BoyOrWoman  Embarked_Imputed  Sex_female  Sex_male  \\\n",
       "0          3      3           0                 0           0         1   \n",
       "1          1      3           1                 0           1         0   \n",
       "2          3      3           1                 0           1         0   \n",
       "3          1      3           1                 0           1         0   \n",
       "4          3      3           0                 0           0         1   \n",
       "...      ...    ...         ...               ...         ...       ...   \n",
       "1041       3      3           1                 0           1         0   \n",
       "1042       1      3           1                 0           1         0   \n",
       "1043       3      3           1                 0           1         0   \n",
       "1044       1      3           1                 0           1         0   \n",
       "1045       3      3           0                 0           0         1   \n",
       "\n",
       "      Embarked_C  Embarked_Q  Embarked_S  \n",
       "0              0           0           1  \n",
       "1              1           0           0  \n",
       "2              0           0           1  \n",
       "3              0           0           1  \n",
       "4              0           0           1  \n",
       "...          ...         ...         ...  \n",
       "1041           0           0           1  \n",
       "1042           0           1           0  \n",
       "1043           0           0           1  \n",
       "1044           1           0           0  \n",
       "1045           0           0           1  \n",
       "\n",
       "[1046 rows x 9 columns]"
      ]
     },
     "execution_count": 195,
     "metadata": {},
     "output_type": "execute_result"
    }
   ],
   "source": [
    "full_dataset = pd.concat([train_data[~train_data.Age.isnull()], test_data[~test_data.Age.isnull()]], ignore_index=True)\n",
    "\n",
    "y_age = full_dataset.Age\n",
    "features_for_age = ['Pclass', 'Titul', 'Sex', 'Embarked', 'BoyOrWoman', 'Embarked_Imputed']\n",
    "X_age = pd.get_dummies(full_dataset[features_for_age])\n",
    "X_age"
   ]
  },
  {
   "cell_type": "code",
   "execution_count": 196,
   "id": "45a2259d",
   "metadata": {},
   "outputs": [],
   "source": [
    "from sklearn.ensemble import RandomForestRegressor\n",
    "from sklearn.model_selection import train_test_split, GridSearchCV\n",
    "\n",
    "X_age_train, X_age_val, y_age_train, y_age_val = train_test_split(X_age, y_age, test_size=0.2, random_state=0)\n",
    "\n",
    "parameters_age = {\n",
    "    'n_estimators' : [100, 150, 200, 250, 300],\n",
    "    'max_depth' : [5, 6, 7, 8, 9],\n",
    "    'min_samples_split' : [3, 4, 5, 6, 7],\n",
    "    'min_samples_leaf' : [1, 2, 3, 4, 5]\n",
    "}\n",
    "model_age = RandomForestRegressor()"
   ]
  },
  {
   "cell_type": "code",
   "execution_count": 115,
   "id": "cc7f4f4f",
   "metadata": {},
   "outputs": [
    {
     "data": {
      "text/plain": [
       "{'max_depth': 5,\n",
       " 'min_samples_leaf': 2,\n",
       " 'min_samples_split': 7,\n",
       " 'n_estimators': 100}"
      ]
     },
     "execution_count": 115,
     "metadata": {},
     "output_type": "execute_result"
    }
   ],
   "source": [
    "grid_age = GridSearchCV(model_age, parameters_age, cv=5, n_jobs=-1)\n",
    "grid_age.fit(X_age_train, y_age_train)\n",
    "\n",
    "grid_age.best_params_"
   ]
  },
  {
   "cell_type": "code",
   "execution_count": 197,
   "id": "f4aa9587",
   "metadata": {},
   "outputs": [
    {
     "data": {
      "text/plain": [
       "RandomForestRegressor(max_depth=5, min_samples_leaf=2, min_samples_split=7,\n",
       "                      random_state=0)"
      ]
     },
     "execution_count": 197,
     "metadata": {},
     "output_type": "execute_result"
    }
   ],
   "source": [
    "best_model_age = RandomForestRegressor(n_estimators=100, max_depth=5, min_samples_leaf=2,\n",
    "                                       min_samples_split=7, random_state=0)\n",
    "best_model_age.fit(X_age_train, y_age_train)"
   ]
  },
  {
   "cell_type": "code",
   "execution_count": 198,
   "id": "4a86282c",
   "metadata": {},
   "outputs": [
    {
     "data": {
      "text/plain": [
       "8.828182541726632"
      ]
     },
     "execution_count": 198,
     "metadata": {},
     "output_type": "execute_result"
    }
   ],
   "source": [
    "from sklearn.metrics import mean_absolute_error\n",
    "\n",
    "mean_absolute_error(y_age_val, best_model_age.predict(X_age_val))"
   ]
  },
  {
   "cell_type": "code",
   "execution_count": 199,
   "id": "95d28a10",
   "metadata": {
    "scrolled": false
   },
   "outputs": [
    {
     "data": {
      "text/html": [
       "<div>\n",
       "<style scoped>\n",
       "    .dataframe tbody tr th:only-of-type {\n",
       "        vertical-align: middle;\n",
       "    }\n",
       "\n",
       "    .dataframe tbody tr th {\n",
       "        vertical-align: top;\n",
       "    }\n",
       "\n",
       "    .dataframe thead th {\n",
       "        text-align: right;\n",
       "    }\n",
       "</style>\n",
       "<table border=\"1\" class=\"dataframe\">\n",
       "  <thead>\n",
       "    <tr style=\"text-align: right;\">\n",
       "      <th></th>\n",
       "      <th>Pclass</th>\n",
       "      <th>Titul</th>\n",
       "      <th>BoyOrWoman</th>\n",
       "      <th>Embarked_Imputed</th>\n",
       "      <th>Sex_female</th>\n",
       "      <th>Sex_male</th>\n",
       "      <th>Embarked_C</th>\n",
       "      <th>Embarked_Q</th>\n",
       "      <th>Embarked_S</th>\n",
       "    </tr>\n",
       "  </thead>\n",
       "  <tbody>\n",
       "    <tr>\n",
       "      <th>0</th>\n",
       "      <td>3</td>\n",
       "      <td>3</td>\n",
       "      <td>0</td>\n",
       "      <td>0</td>\n",
       "      <td>0</td>\n",
       "      <td>1</td>\n",
       "      <td>0</td>\n",
       "      <td>1</td>\n",
       "      <td>0</td>\n",
       "    </tr>\n",
       "    <tr>\n",
       "      <th>1</th>\n",
       "      <td>2</td>\n",
       "      <td>3</td>\n",
       "      <td>0</td>\n",
       "      <td>0</td>\n",
       "      <td>0</td>\n",
       "      <td>1</td>\n",
       "      <td>0</td>\n",
       "      <td>0</td>\n",
       "      <td>1</td>\n",
       "    </tr>\n",
       "    <tr>\n",
       "      <th>2</th>\n",
       "      <td>3</td>\n",
       "      <td>3</td>\n",
       "      <td>1</td>\n",
       "      <td>0</td>\n",
       "      <td>1</td>\n",
       "      <td>0</td>\n",
       "      <td>1</td>\n",
       "      <td>0</td>\n",
       "      <td>0</td>\n",
       "    </tr>\n",
       "    <tr>\n",
       "      <th>3</th>\n",
       "      <td>3</td>\n",
       "      <td>3</td>\n",
       "      <td>0</td>\n",
       "      <td>0</td>\n",
       "      <td>0</td>\n",
       "      <td>1</td>\n",
       "      <td>1</td>\n",
       "      <td>0</td>\n",
       "      <td>0</td>\n",
       "    </tr>\n",
       "    <tr>\n",
       "      <th>4</th>\n",
       "      <td>3</td>\n",
       "      <td>3</td>\n",
       "      <td>1</td>\n",
       "      <td>0</td>\n",
       "      <td>1</td>\n",
       "      <td>0</td>\n",
       "      <td>0</td>\n",
       "      <td>1</td>\n",
       "      <td>0</td>\n",
       "    </tr>\n",
       "    <tr>\n",
       "      <th>...</th>\n",
       "      <td>...</td>\n",
       "      <td>...</td>\n",
       "      <td>...</td>\n",
       "      <td>...</td>\n",
       "      <td>...</td>\n",
       "      <td>...</td>\n",
       "      <td>...</td>\n",
       "      <td>...</td>\n",
       "      <td>...</td>\n",
       "    </tr>\n",
       "    <tr>\n",
       "      <th>258</th>\n",
       "      <td>3</td>\n",
       "      <td>3</td>\n",
       "      <td>1</td>\n",
       "      <td>0</td>\n",
       "      <td>1</td>\n",
       "      <td>0</td>\n",
       "      <td>0</td>\n",
       "      <td>1</td>\n",
       "      <td>0</td>\n",
       "    </tr>\n",
       "    <tr>\n",
       "      <th>259</th>\n",
       "      <td>3</td>\n",
       "      <td>3</td>\n",
       "      <td>1</td>\n",
       "      <td>0</td>\n",
       "      <td>1</td>\n",
       "      <td>0</td>\n",
       "      <td>0</td>\n",
       "      <td>1</td>\n",
       "      <td>0</td>\n",
       "    </tr>\n",
       "    <tr>\n",
       "      <th>260</th>\n",
       "      <td>3</td>\n",
       "      <td>3</td>\n",
       "      <td>0</td>\n",
       "      <td>0</td>\n",
       "      <td>0</td>\n",
       "      <td>1</td>\n",
       "      <td>0</td>\n",
       "      <td>0</td>\n",
       "      <td>1</td>\n",
       "    </tr>\n",
       "    <tr>\n",
       "      <th>261</th>\n",
       "      <td>3</td>\n",
       "      <td>3</td>\n",
       "      <td>0</td>\n",
       "      <td>0</td>\n",
       "      <td>0</td>\n",
       "      <td>1</td>\n",
       "      <td>0</td>\n",
       "      <td>0</td>\n",
       "      <td>1</td>\n",
       "    </tr>\n",
       "    <tr>\n",
       "      <th>262</th>\n",
       "      <td>3</td>\n",
       "      <td>3</td>\n",
       "      <td>1</td>\n",
       "      <td>0</td>\n",
       "      <td>0</td>\n",
       "      <td>1</td>\n",
       "      <td>1</td>\n",
       "      <td>0</td>\n",
       "      <td>0</td>\n",
       "    </tr>\n",
       "  </tbody>\n",
       "</table>\n",
       "<p>263 rows × 9 columns</p>\n",
       "</div>"
      ],
      "text/plain": [
       "     Pclass  Titul  BoyOrWoman  Embarked_Imputed  Sex_female  Sex_male  \\\n",
       "0         3      3           0                 0           0         1   \n",
       "1         2      3           0                 0           0         1   \n",
       "2         3      3           1                 0           1         0   \n",
       "3         3      3           0                 0           0         1   \n",
       "4         3      3           1                 0           1         0   \n",
       "..      ...    ...         ...               ...         ...       ...   \n",
       "258       3      3           1                 0           1         0   \n",
       "259       3      3           1                 0           1         0   \n",
       "260       3      3           0                 0           0         1   \n",
       "261       3      3           0                 0           0         1   \n",
       "262       3      3           1                 0           0         1   \n",
       "\n",
       "     Embarked_C  Embarked_Q  Embarked_S  \n",
       "0             0           1           0  \n",
       "1             0           0           1  \n",
       "2             1           0           0  \n",
       "3             1           0           0  \n",
       "4             0           1           0  \n",
       "..          ...         ...         ...  \n",
       "258           0           1           0  \n",
       "259           0           1           0  \n",
       "260           0           0           1  \n",
       "261           0           0           1  \n",
       "262           1           0           0  \n",
       "\n",
       "[263 rows x 9 columns]"
      ]
     },
     "execution_count": 199,
     "metadata": {},
     "output_type": "execute_result"
    }
   ],
   "source": [
    "full_prediction_dataset = pd.concat([train_data[train_data.Age.isnull()], test_data[test_data.Age.isnull()]], ignore_index=True)\n",
    "\n",
    "X_age_test = pd.get_dummies(full_prediction_dataset[features_for_age])\n",
    "X_age_test"
   ]
  },
  {
   "cell_type": "code",
   "execution_count": 200,
   "id": "48a821c0",
   "metadata": {},
   "outputs": [],
   "source": [
    "age_prediction = best_model_age.predict(X_age_test)\n",
    "age_prediction = age_prediction.round(1)"
   ]
  },
  {
   "cell_type": "code",
   "execution_count": 201,
   "id": "b33a88d3",
   "metadata": {
    "scrolled": false
   },
   "outputs": [
    {
     "data": {
      "text/plain": [
       "array([34.3, 33.1, 17.1, 27.4, 23.5, 27.9, 39.7, 23.5, 27.4, 27.4, 27.9,\n",
       "       34.3, 23.5, 27.4, 41.5, 41.8,  6.5, 27.9, 27.9, 23.5, 27.9, 27.9,\n",
       "       27.9, 27.9, 23.5, 27.9, 34.3, 17.1, 17.1, 27.9, 27.9,  5.4, 37.1,\n",
       "       41.5,  5.4, 23.1, 30.3, 41.5, 23.5, 34.3, 23.5, 27.9, 34.3, 27.9,\n",
       "       23.1, 23.1, 17.1, 23.5, 27.9, 39.7, 34.3, 23.5, 41.5, 23.5, 33.1,\n",
       "       41.5, 41.8, 41.5, 23.5, 34.3, 29. , 27.9, 39.7, 27.9, 23.5, 37.1,\n",
       "       27.9, 23.1, 41.5, 27.4, 23.5, 23.5, 34.3, 17.1, 23.5, 39.7, 27.9,\n",
       "       34.3, 23.1, 27.9, 34.3, 33.1, 23.1, 27.4, 27.9, 34.3, 23.1, 27.9,\n",
       "       27.9, 27.9, 37.1, 34.3, 27.9, 33.1, 34.3, 27.9, 41.5, 33.1, 23.1,\n",
       "       27.9, 27.4, 27.9, 23.5, 41.5, 27.9, 34.3, 27.4, 27.4, 41.5, 27.4,\n",
       "       17.1, 27.9, 30.3, 34.3, 41.8, 34.3, 27.9, 23.1, 27.4, 23.5, 17.1,\n",
       "       27.4, 27.9, 23.5, 28.8, 27.4, 27.9, 41.5, 27.9, 23.5, 34.3, 34.3,\n",
       "       41.5, 27.9, 27.9, 27.9, 27.9, 23.5, 27.9, 27.9, 37.1, 33.1, 23.5,\n",
       "       27.9, 23.5,  6.5, 41.5, 34.3, 23.5, 33.1, 27.9, 27.9, 41.5, 27.9,\n",
       "       41.8, 34.3, 27.4, 34.3, 34.3, 27.9, 34.3, 23.1, 41.8, 41.5, 34.3,\n",
       "       27.9, 34.3, 27.4, 27.9, 41.8, 27.9, 39.7, 27.4, 23.1, 27.9, 27.9,\n",
       "       23.1, 27.9, 37.1, 27.4, 23.1, 23.1, 27.9, 41.5, 34.3, 30.3, 27.9,\n",
       "       28.8, 27.9, 27.9, 51.5, 27.4, 23.5, 27.9, 27.9, 34.3, 34.3, 27.9,\n",
       "       23.5, 27.4, 34.3, 34.3, 23.5, 23.1, 27.4, 41.5, 41.5, 27.4, 23.5,\n",
       "       27.9, 39.7, 27.9, 27.4, 34.3, 23.1, 41.5, 23.1, 23.5, 41.8, 27.9,\n",
       "       23.5, 27.9, 17.1, 23.5, 34.3, 27.9,  5.4, 17.1, 27.9, 34.3, 27.9,\n",
       "       41.5, 27.9, 23.1, 34.3, 23.5, 27.4, 23.5, 27.9, 27.4, 27.9, 41.5,\n",
       "       27.4, 27.4, 30.3, 23.5, 27.9, 27.4,  6.5, 27.9,  5.4, 27.9, 34.3,\n",
       "       23.1, 27.4, 34.3, 23.1, 33.1, 23.5, 23.5, 27.9, 27.9,  6.5])"
      ]
     },
     "execution_count": 201,
     "metadata": {},
     "output_type": "execute_result"
    }
   ],
   "source": [
    "age_prediction"
   ]
  },
  {
   "cell_type": "code",
   "execution_count": 202,
   "id": "f4b64d31",
   "metadata": {},
   "outputs": [],
   "source": [
    "train_missing_ages = train_data.Age[train_data.Age.isnull()]\n",
    "test_missing_ages = test_data.Age[test_data.Age.isnull()] "
   ]
  },
  {
   "cell_type": "code",
   "execution_count": 203,
   "id": "5618f01d",
   "metadata": {
    "scrolled": false
   },
   "outputs": [],
   "source": [
    "counter_for_array = 0\n",
    "for i in range(train_data.Age.shape[0]):\n",
    "    if i in train_missing_ages.index:\n",
    "        train_data.at[i, 'Age'] = age_prediction[counter_for_array]\n",
    "        counter_for_array += 1"
   ]
  },
  {
   "cell_type": "code",
   "execution_count": 204,
   "id": "bca0649d",
   "metadata": {},
   "outputs": [],
   "source": [
    "for i in range(test_data.Age.shape[0]):\n",
    "    if i in test_missing_ages.index:\n",
    "        test_data.at[i, 'Age'] = age_prediction[counter_for_array]\n",
    "        counter_for_array += 1"
   ]
  },
  {
   "cell_type": "markdown",
   "id": "7214bca2",
   "metadata": {},
   "source": [
    "## Fare"
   ]
  },
  {
   "cell_type": "code",
   "execution_count": 205,
   "id": "75ac8afb",
   "metadata": {},
   "outputs": [],
   "source": [
    "train_data.Fare.replace(0, np.nan, inplace=True)\n",
    "test_data.Fare.replace(0, np.nan, inplace=True)"
   ]
  },
  {
   "cell_type": "code",
   "execution_count": 206,
   "id": "42f4b62a",
   "metadata": {},
   "outputs": [],
   "source": [
    "train_data['Fare_Imputed'] = train_data.Fare.isnull().astype('int')\n",
    "test_data['Fare_Imputed'] = test_data.Fare.isnull().astype('int')"
   ]
  },
  {
   "cell_type": "code",
   "execution_count": 207,
   "id": "7e3f96a9",
   "metadata": {},
   "outputs": [
    {
     "data": {
      "text/plain": [
       "18"
      ]
     },
     "execution_count": 207,
     "metadata": {},
     "output_type": "execute_result"
    }
   ],
   "source": [
    "data_Fare = pd.concat([train_data[~train_data.Age.isnull()],\n",
    "                                              test_data[~test_data.Age.isnull()]], ignore_index=True)\n",
    "data_Fare.Fare.isnull().sum()"
   ]
  },
  {
   "cell_type": "code",
   "execution_count": 208,
   "id": "259be9c6",
   "metadata": {},
   "outputs": [],
   "source": [
    "clean_data_Fare = data_Fare[~data_Fare.Fare.isnull()]"
   ]
  },
  {
   "cell_type": "code",
   "execution_count": 209,
   "id": "b8ea272c",
   "metadata": {},
   "outputs": [],
   "source": [
    "y_Fare = clean_data_Fare.Fare\n",
    "features_Fare = ['Pclass', 'Titul', 'Sex', 'Age', 'BoyOrWoman', 'Embarked', 'Embarked_Imputed', 'Age_Imputed']\n",
    "X_Fare = pd.get_dummies(clean_data_Fare[features_Fare])"
   ]
  },
  {
   "cell_type": "code",
   "execution_count": 210,
   "id": "f24963f0",
   "metadata": {},
   "outputs": [],
   "source": [
    "X_Fare_train, X_Fare_val, y_Fare_train, y_Fare_val = train_test_split(X_Fare, y_Fare, test_size=0.2, random_state=0)\n",
    "\n",
    "parameters_Fare = {\n",
    "    'n_estimators' : [100, 150, 200, 250, 300],\n",
    "    'max_depth' : [5, 6, 7, 8, 9],\n",
    "    'min_samples_split' : [3, 4, 5, 6, 7],\n",
    "    'min_samples_leaf' : [1, 2, 3, 4, 5]\n",
    "}\n",
    "model_Fare = RandomForestRegressor()"
   ]
  },
  {
   "cell_type": "code",
   "execution_count": 137,
   "id": "3b77c058",
   "metadata": {},
   "outputs": [
    {
     "data": {
      "text/plain": [
       "{'max_depth': 5,\n",
       " 'min_samples_leaf': 5,\n",
       " 'min_samples_split': 7,\n",
       " 'n_estimators': 150}"
      ]
     },
     "execution_count": 137,
     "metadata": {},
     "output_type": "execute_result"
    }
   ],
   "source": [
    "grid_Fare = GridSearchCV(model_Fare, parameters_Fare, cv=5, n_jobs=-1)\n",
    "grid_age.fit(X_Fare_train, y_Fare_train)\n",
    "\n",
    "grid_age.best_params_"
   ]
  },
  {
   "cell_type": "code",
   "execution_count": 211,
   "id": "cda308cb",
   "metadata": {},
   "outputs": [
    {
     "data": {
      "text/plain": [
       "RandomForestRegressor(max_depth=5, min_samples_leaf=5, min_samples_split=7,\n",
       "                      n_estimators=150, random_state=0)"
      ]
     },
     "execution_count": 211,
     "metadata": {},
     "output_type": "execute_result"
    }
   ],
   "source": [
    "best_model_Fare = RandomForestRegressor(n_estimators=150, max_depth=5, min_samples_leaf=5,\n",
    "                                       min_samples_split=7, random_state=0)\n",
    "best_model_Fare.fit(X_Fare_train, y_Fare_train)"
   ]
  },
  {
   "cell_type": "code",
   "execution_count": 212,
   "id": "917733a0",
   "metadata": {},
   "outputs": [
    {
     "data": {
      "text/plain": [
       "18.565623638745695"
      ]
     },
     "execution_count": 212,
     "metadata": {},
     "output_type": "execute_result"
    }
   ],
   "source": [
    "mean_absolute_error(y_Fare_val, best_model_Fare.predict(X_Fare_val))"
   ]
  },
  {
   "cell_type": "code",
   "execution_count": 213,
   "id": "13b9ab30",
   "metadata": {},
   "outputs": [
    {
     "data": {
      "text/html": [
       "<div>\n",
       "<style scoped>\n",
       "    .dataframe tbody tr th:only-of-type {\n",
       "        vertical-align: middle;\n",
       "    }\n",
       "\n",
       "    .dataframe tbody tr th {\n",
       "        vertical-align: top;\n",
       "    }\n",
       "\n",
       "    .dataframe thead th {\n",
       "        text-align: right;\n",
       "    }\n",
       "</style>\n",
       "<table border=\"1\" class=\"dataframe\">\n",
       "  <thead>\n",
       "    <tr style=\"text-align: right;\">\n",
       "      <th></th>\n",
       "      <th>Pclass</th>\n",
       "      <th>Titul</th>\n",
       "      <th>Age</th>\n",
       "      <th>BoyOrWoman</th>\n",
       "      <th>Embarked_Imputed</th>\n",
       "      <th>Age_Imputed</th>\n",
       "      <th>Sex_male</th>\n",
       "      <th>Embarked_S</th>\n",
       "      <th>Embarked_Q</th>\n",
       "      <th>Embarled_C</th>\n",
       "      <th>Sex_female</th>\n",
       "    </tr>\n",
       "  </thead>\n",
       "  <tbody>\n",
       "    <tr>\n",
       "      <th>0</th>\n",
       "      <td>3</td>\n",
       "      <td>3</td>\n",
       "      <td>36.0</td>\n",
       "      <td>0</td>\n",
       "      <td>0</td>\n",
       "      <td>0</td>\n",
       "      <td>1</td>\n",
       "      <td>1</td>\n",
       "      <td>0</td>\n",
       "      <td>0</td>\n",
       "      <td>0</td>\n",
       "    </tr>\n",
       "    <tr>\n",
       "      <th>1</th>\n",
       "      <td>1</td>\n",
       "      <td>3</td>\n",
       "      <td>40.0</td>\n",
       "      <td>0</td>\n",
       "      <td>0</td>\n",
       "      <td>0</td>\n",
       "      <td>1</td>\n",
       "      <td>1</td>\n",
       "      <td>0</td>\n",
       "      <td>0</td>\n",
       "      <td>0</td>\n",
       "    </tr>\n",
       "    <tr>\n",
       "      <th>2</th>\n",
       "      <td>3</td>\n",
       "      <td>3</td>\n",
       "      <td>25.0</td>\n",
       "      <td>0</td>\n",
       "      <td>0</td>\n",
       "      <td>0</td>\n",
       "      <td>1</td>\n",
       "      <td>1</td>\n",
       "      <td>0</td>\n",
       "      <td>0</td>\n",
       "      <td>0</td>\n",
       "    </tr>\n",
       "    <tr>\n",
       "      <th>3</th>\n",
       "      <td>2</td>\n",
       "      <td>3</td>\n",
       "      <td>33.1</td>\n",
       "      <td>0</td>\n",
       "      <td>0</td>\n",
       "      <td>1</td>\n",
       "      <td>1</td>\n",
       "      <td>1</td>\n",
       "      <td>0</td>\n",
       "      <td>0</td>\n",
       "      <td>0</td>\n",
       "    </tr>\n",
       "    <tr>\n",
       "      <th>4</th>\n",
       "      <td>3</td>\n",
       "      <td>3</td>\n",
       "      <td>19.0</td>\n",
       "      <td>0</td>\n",
       "      <td>0</td>\n",
       "      <td>0</td>\n",
       "      <td>1</td>\n",
       "      <td>1</td>\n",
       "      <td>0</td>\n",
       "      <td>0</td>\n",
       "      <td>0</td>\n",
       "    </tr>\n",
       "    <tr>\n",
       "      <th>5</th>\n",
       "      <td>2</td>\n",
       "      <td>3</td>\n",
       "      <td>33.1</td>\n",
       "      <td>0</td>\n",
       "      <td>0</td>\n",
       "      <td>1</td>\n",
       "      <td>1</td>\n",
       "      <td>1</td>\n",
       "      <td>0</td>\n",
       "      <td>0</td>\n",
       "      <td>0</td>\n",
       "    </tr>\n",
       "    <tr>\n",
       "      <th>6</th>\n",
       "      <td>2</td>\n",
       "      <td>3</td>\n",
       "      <td>33.1</td>\n",
       "      <td>0</td>\n",
       "      <td>0</td>\n",
       "      <td>1</td>\n",
       "      <td>1</td>\n",
       "      <td>1</td>\n",
       "      <td>0</td>\n",
       "      <td>0</td>\n",
       "      <td>0</td>\n",
       "    </tr>\n",
       "    <tr>\n",
       "      <th>7</th>\n",
       "      <td>2</td>\n",
       "      <td>3</td>\n",
       "      <td>33.1</td>\n",
       "      <td>0</td>\n",
       "      <td>0</td>\n",
       "      <td>1</td>\n",
       "      <td>1</td>\n",
       "      <td>1</td>\n",
       "      <td>0</td>\n",
       "      <td>0</td>\n",
       "      <td>0</td>\n",
       "    </tr>\n",
       "    <tr>\n",
       "      <th>8</th>\n",
       "      <td>3</td>\n",
       "      <td>3</td>\n",
       "      <td>49.0</td>\n",
       "      <td>0</td>\n",
       "      <td>0</td>\n",
       "      <td>0</td>\n",
       "      <td>1</td>\n",
       "      <td>1</td>\n",
       "      <td>0</td>\n",
       "      <td>0</td>\n",
       "      <td>0</td>\n",
       "    </tr>\n",
       "    <tr>\n",
       "      <th>9</th>\n",
       "      <td>1</td>\n",
       "      <td>3</td>\n",
       "      <td>41.5</td>\n",
       "      <td>0</td>\n",
       "      <td>0</td>\n",
       "      <td>1</td>\n",
       "      <td>1</td>\n",
       "      <td>1</td>\n",
       "      <td>0</td>\n",
       "      <td>0</td>\n",
       "      <td>0</td>\n",
       "    </tr>\n",
       "    <tr>\n",
       "      <th>10</th>\n",
       "      <td>2</td>\n",
       "      <td>3</td>\n",
       "      <td>33.1</td>\n",
       "      <td>0</td>\n",
       "      <td>0</td>\n",
       "      <td>1</td>\n",
       "      <td>1</td>\n",
       "      <td>1</td>\n",
       "      <td>0</td>\n",
       "      <td>0</td>\n",
       "      <td>0</td>\n",
       "    </tr>\n",
       "    <tr>\n",
       "      <th>11</th>\n",
       "      <td>2</td>\n",
       "      <td>3</td>\n",
       "      <td>33.1</td>\n",
       "      <td>0</td>\n",
       "      <td>0</td>\n",
       "      <td>1</td>\n",
       "      <td>1</td>\n",
       "      <td>1</td>\n",
       "      <td>0</td>\n",
       "      <td>0</td>\n",
       "      <td>0</td>\n",
       "    </tr>\n",
       "    <tr>\n",
       "      <th>12</th>\n",
       "      <td>1</td>\n",
       "      <td>3</td>\n",
       "      <td>39.0</td>\n",
       "      <td>0</td>\n",
       "      <td>0</td>\n",
       "      <td>0</td>\n",
       "      <td>1</td>\n",
       "      <td>1</td>\n",
       "      <td>0</td>\n",
       "      <td>0</td>\n",
       "      <td>0</td>\n",
       "    </tr>\n",
       "    <tr>\n",
       "      <th>13</th>\n",
       "      <td>1</td>\n",
       "      <td>3</td>\n",
       "      <td>41.5</td>\n",
       "      <td>0</td>\n",
       "      <td>0</td>\n",
       "      <td>1</td>\n",
       "      <td>1</td>\n",
       "      <td>1</td>\n",
       "      <td>0</td>\n",
       "      <td>0</td>\n",
       "      <td>0</td>\n",
       "    </tr>\n",
       "    <tr>\n",
       "      <th>14</th>\n",
       "      <td>1</td>\n",
       "      <td>3</td>\n",
       "      <td>38.0</td>\n",
       "      <td>0</td>\n",
       "      <td>0</td>\n",
       "      <td>0</td>\n",
       "      <td>1</td>\n",
       "      <td>1</td>\n",
       "      <td>0</td>\n",
       "      <td>0</td>\n",
       "      <td>0</td>\n",
       "    </tr>\n",
       "    <tr>\n",
       "      <th>15</th>\n",
       "      <td>3</td>\n",
       "      <td>3</td>\n",
       "      <td>60.5</td>\n",
       "      <td>0</td>\n",
       "      <td>0</td>\n",
       "      <td>0</td>\n",
       "      <td>1</td>\n",
       "      <td>1</td>\n",
       "      <td>0</td>\n",
       "      <td>0</td>\n",
       "      <td>0</td>\n",
       "    </tr>\n",
       "    <tr>\n",
       "      <th>16</th>\n",
       "      <td>1</td>\n",
       "      <td>3</td>\n",
       "      <td>41.5</td>\n",
       "      <td>0</td>\n",
       "      <td>0</td>\n",
       "      <td>1</td>\n",
       "      <td>1</td>\n",
       "      <td>1</td>\n",
       "      <td>0</td>\n",
       "      <td>0</td>\n",
       "      <td>0</td>\n",
       "    </tr>\n",
       "    <tr>\n",
       "      <th>17</th>\n",
       "      <td>1</td>\n",
       "      <td>3</td>\n",
       "      <td>49.0</td>\n",
       "      <td>0</td>\n",
       "      <td>0</td>\n",
       "      <td>0</td>\n",
       "      <td>1</td>\n",
       "      <td>1</td>\n",
       "      <td>0</td>\n",
       "      <td>0</td>\n",
       "      <td>0</td>\n",
       "    </tr>\n",
       "  </tbody>\n",
       "</table>\n",
       "</div>"
      ],
      "text/plain": [
       "    Pclass  Titul   Age  BoyOrWoman  Embarked_Imputed  Age_Imputed  Sex_male  \\\n",
       "0        3      3  36.0           0                 0            0         1   \n",
       "1        1      3  40.0           0                 0            0         1   \n",
       "2        3      3  25.0           0                 0            0         1   \n",
       "3        2      3  33.1           0                 0            1         1   \n",
       "4        3      3  19.0           0                 0            0         1   \n",
       "5        2      3  33.1           0                 0            1         1   \n",
       "6        2      3  33.1           0                 0            1         1   \n",
       "7        2      3  33.1           0                 0            1         1   \n",
       "8        3      3  49.0           0                 0            0         1   \n",
       "9        1      3  41.5           0                 0            1         1   \n",
       "10       2      3  33.1           0                 0            1         1   \n",
       "11       2      3  33.1           0                 0            1         1   \n",
       "12       1      3  39.0           0                 0            0         1   \n",
       "13       1      3  41.5           0                 0            1         1   \n",
       "14       1      3  38.0           0                 0            0         1   \n",
       "15       3      3  60.5           0                 0            0         1   \n",
       "16       1      3  41.5           0                 0            1         1   \n",
       "17       1      3  49.0           0                 0            0         1   \n",
       "\n",
       "    Embarked_S  Embarked_Q  Embarled_C  Sex_female  \n",
       "0            1           0           0           0  \n",
       "1            1           0           0           0  \n",
       "2            1           0           0           0  \n",
       "3            1           0           0           0  \n",
       "4            1           0           0           0  \n",
       "5            1           0           0           0  \n",
       "6            1           0           0           0  \n",
       "7            1           0           0           0  \n",
       "8            1           0           0           0  \n",
       "9            1           0           0           0  \n",
       "10           1           0           0           0  \n",
       "11           1           0           0           0  \n",
       "12           1           0           0           0  \n",
       "13           1           0           0           0  \n",
       "14           1           0           0           0  \n",
       "15           1           0           0           0  \n",
       "16           1           0           0           0  \n",
       "17           1           0           0           0  "
      ]
     },
     "execution_count": 213,
     "metadata": {},
     "output_type": "execute_result"
    }
   ],
   "source": [
    "raw_data_Fare = pd.concat([train_data[train_data.Fare.isnull()], \n",
    "                           test_data[test_data.Fare.isnull()]], ignore_index=True)\n",
    "\n",
    "X_Fare_test = pd.get_dummies(raw_data_Fare[features_Fare])\n",
    "X_Fare_test['Embarked_Q'] = 0\n",
    "X_Fare_test['Embarled_C'] = 0\n",
    "X_Fare_test['Sex_female'] = 0\n",
    "X_Fare_test"
   ]
  },
  {
   "cell_type": "code",
   "execution_count": 214,
   "id": "a2508d52",
   "metadata": {},
   "outputs": [],
   "source": [
    "prediction_Fare = best_model_Fare.predict(X_Fare_test)\n",
    "prediction_Fare = prediction_Fare.round(4)"
   ]
  },
  {
   "cell_type": "code",
   "execution_count": 215,
   "id": "dd56f5b2",
   "metadata": {},
   "outputs": [
    {
     "data": {
      "text/plain": [
       "array([11.4305, 55.0173, 10.1443, 19.4478, 10.0417, 19.4478, 19.4478,\n",
       "       19.4478, 11.5756, 44.3083, 19.4478, 19.4478, 61.8235, 44.3083,\n",
       "       81.9719, 11.5756, 44.3083, 73.5619])"
      ]
     },
     "execution_count": 215,
     "metadata": {},
     "output_type": "execute_result"
    }
   ],
   "source": [
    "prediction_Fare"
   ]
  },
  {
   "cell_type": "code",
   "execution_count": 216,
   "id": "e3c0cc90",
   "metadata": {},
   "outputs": [],
   "source": [
    "train_missing_Fare = train_data.Fare[train_data.Fare.isnull()]\n",
    "test_missing_Fare = test_data.Fare[test_data.Fare.isnull()]"
   ]
  },
  {
   "cell_type": "code",
   "execution_count": 217,
   "id": "15fa1131",
   "metadata": {},
   "outputs": [],
   "source": [
    "counter_Fare = 0\n",
    "for i in range(train_data.Fare.shape[0]):\n",
    "    if i in train_missing_Fare.index:\n",
    "        train_data.at[i, 'Fare'] = prediction_Fare[counter_Fare]\n",
    "        counter_Fare += 1"
   ]
  },
  {
   "cell_type": "code",
   "execution_count": 218,
   "id": "1bcbc58b",
   "metadata": {},
   "outputs": [],
   "source": [
    "for i in range(test_data.Fare.shape[0]):\n",
    "    if i in test_missing_Fare.index:\n",
    "        test_data.at[i, 'Fare'] = prediction_Fare[counter_Fare]\n",
    "        counter_Fare += 1"
   ]
  },
  {
   "cell_type": "markdown",
   "id": "6324ac5c",
   "metadata": {},
   "source": [
    "### Women"
   ]
  },
  {
   "cell_type": "code",
   "execution_count": 38,
   "id": "47e60637",
   "metadata": {
    "scrolled": false
   },
   "outputs": [],
   "source": [
    "# mean_w_1 = pd.concat([train_data.Age[(train_data.Sex == 'female') & (train_data.Pclass == 1)],\n",
    "#                         test_data.Age[(test_data.Sex == 'female') & (test_data.Pclass == 1)]]).mean()\n",
    "\n",
    "# mean_w_2 = pd.concat([train_data.Age[(train_data.Sex == 'female') & (train_data.Pclass == 2)],\n",
    "#                         test_data.Age[(test_data.Sex == 'female') & (test_data.Pclass == 2)]]).mean()\n",
    "\n",
    "# mean_w_3 = pd.concat([train_data.Age[(train_data.Sex == 'female') & (train_data.Pclass == 3)],\n",
    "#                         test_data.Age[(test_data.Sex == 'female') & (test_data.Pclass == 3)]]).mean()"
   ]
  },
  {
   "cell_type": "code",
   "execution_count": 39,
   "id": "77808aba",
   "metadata": {
    "scrolled": true
   },
   "outputs": [
    {
     "data": {
      "text/plain": [
       "(37.037593984962406, 27.499223300970876, 22.185328947368422)"
      ]
     },
     "execution_count": 39,
     "metadata": {},
     "output_type": "execute_result"
    }
   ],
   "source": [
    "# mean_w_1, mean_w_2, mean_w_3"
   ]
  },
  {
   "cell_type": "code",
   "execution_count": 40,
   "id": "a0c010da",
   "metadata": {},
   "outputs": [],
   "source": [
    "# missing_w_1 = train_data.Age[(train_data.Sex == 'female') & (train_data.Pclass == 1)]\n",
    "# missing_w_2 = train_data.Age[(train_data.Sex == 'female') & (train_data.Pclass == 2)]\n",
    "# missing_w_3 = train_data.Age[(train_data.Sex == 'female') & (train_data.Pclass == 3)]\n",
    "\n",
    "# missing_w_1_test = test_data.Age[(test_data.Sex == 'female') & (test_data.Pclass == 1)]\n",
    "# missing_w_2_test = test_data.Age[(test_data.Sex == 'female') & (test_data.Pclass == 2)]\n",
    "# missing_w_3_test = test_data.Age[(test_data.Sex == 'female') & (test_data.Pclass == 3)]"
   ]
  },
  {
   "cell_type": "code",
   "execution_count": 41,
   "id": "aa5b57db",
   "metadata": {},
   "outputs": [],
   "source": [
    "# for i in missing_w_1.index:\n",
    "#     if missing_w_1.isnull()[i]:\n",
    "#         train_data.at[i, 'Age'] = mean_w_1\n",
    "# for i in missing_w_2.index:\n",
    "#     if missing_w_2.isnull()[i]:\n",
    "#         train_data.at[i, 'Age'] = mean_w_2\n",
    "# for i in missing_w_3.index:\n",
    "#     if missing_w_3.isnull()[i]:\n",
    "#         train_data.at[i, 'Age'] = mean_w_3"
   ]
  },
  {
   "cell_type": "code",
   "execution_count": 42,
   "id": "7c4807cb",
   "metadata": {},
   "outputs": [],
   "source": [
    "# for i in missing_w_1_test.index:\n",
    "#     if missing_w_1_test.isnull()[i]:\n",
    "#         test_data.at[i, 'Age'] = mean_w_1\n",
    "# for i in missing_w_2_test.index:\n",
    "#     if missing_w_2_test.isnull()[i]:\n",
    "#         test_data.at[i, 'Age'] = mean_w_2\n",
    "# for i in missing_w_3_test.index:\n",
    "#     if missing_w_3_test.isnull()[i]:\n",
    "#         test_data.at[i, 'Age'] = mean_w_3"
   ]
  },
  {
   "cell_type": "markdown",
   "id": "030b8602",
   "metadata": {},
   "source": [
    "### Boys"
   ]
  },
  {
   "cell_type": "code",
   "execution_count": 43,
   "id": "432a32fe",
   "metadata": {},
   "outputs": [],
   "source": [
    "# mean_boys = pd.concat([train_data.Age[(train_data.Name.str.find('Master') != -1)],\n",
    "#                       test_data.Age[(test_data.Name.str.find('Master') != -1)]]).mean()"
   ]
  },
  {
   "cell_type": "code",
   "execution_count": 44,
   "id": "9e503bf7",
   "metadata": {
    "scrolled": true
   },
   "outputs": [
    {
     "data": {
      "text/plain": [
       "5.482641509433963"
      ]
     },
     "execution_count": 44,
     "metadata": {},
     "output_type": "execute_result"
    }
   ],
   "source": [
    "# mean_boys"
   ]
  },
  {
   "cell_type": "code",
   "execution_count": 45,
   "id": "6d04bfce",
   "metadata": {},
   "outputs": [],
   "source": [
    "# missing_boys = train_data.Age[(train_data.Name.str.find('Master') != -1)]\n",
    "# missing_boys_test = test_data.Age[(test_data.Name.str.find('Master') != -1)] "
   ]
  },
  {
   "cell_type": "code",
   "execution_count": 46,
   "id": "9921289e",
   "metadata": {},
   "outputs": [],
   "source": [
    "# for i in missing_boys.index:\n",
    "#     if missing_boys.isnull()[i]:\n",
    "#         train_data.at[i, 'Age'] = mean_boys"
   ]
  },
  {
   "cell_type": "code",
   "execution_count": 47,
   "id": "77e5e822",
   "metadata": {},
   "outputs": [],
   "source": [
    "# for i in missing_boys_test.index:\n",
    "#     if missing_boys_test.isnull()[i]:\n",
    "#         test_data.at[i, 'Age'] = mean_boys"
   ]
  },
  {
   "cell_type": "markdown",
   "id": "3cb3447f",
   "metadata": {},
   "source": [
    "### Men"
   ]
  },
  {
   "cell_type": "code",
   "execution_count": 48,
   "id": "d5227310",
   "metadata": {},
   "outputs": [],
   "source": [
    "# mean_m_1 = pd.concat([train_data.Age[(train_data.Sex == 'male') & (train_data.Pclass == 1)],\n",
    "#                         test_data.Age[(test_data.Sex == 'male') & (test_data.Pclass == 1)]]).mean()\n",
    "\n",
    "# mean_m_2 = pd.concat([train_data.Age[(train_data.Sex == 'male') & (train_data.Pclass == 2)],\n",
    "#                         test_data.Age[(test_data.Sex == 'male') & (test_data.Pclass == 2)]]).mean()\n",
    "\n",
    "# mean_m_3 = pd.concat([train_data.Age[(train_data.Sex == 'male') & (train_data.Pclass == 3)],\n",
    "#                         test_data.Age[(test_data.Sex == 'male') & (test_data.Pclass == 3)]]).mean()"
   ]
  },
  {
   "cell_type": "code",
   "execution_count": 49,
   "id": "825029ab",
   "metadata": {},
   "outputs": [
    {
     "data": {
      "text/plain": [
       "(41.02927152317881, 30.815379746835443, 25.503336504413085)"
      ]
     },
     "execution_count": 49,
     "metadata": {},
     "output_type": "execute_result"
    }
   ],
   "source": [
    "# mean_m_1, mean_m_2, mean_m_3"
   ]
  },
  {
   "cell_type": "code",
   "execution_count": 50,
   "id": "3387df0b",
   "metadata": {},
   "outputs": [],
   "source": [
    "# missing_m_1 = train_data.Age[(train_data.Sex == 'male') & (train_data.Pclass == 1)]\n",
    "# missing_m_2 = train_data.Age[(train_data.Sex == 'male') & (train_data.Pclass == 2)]\n",
    "# missing_m_3 = train_data.Age[(train_data.Sex == 'male') & (train_data.Pclass == 3)]\n",
    "\n",
    "# missing_m_1_test = test_data.Age[(test_data.Sex == 'male') & (test_data.Pclass == 1)]\n",
    "# missing_m_2_test = test_data.Age[(test_data.Sex == 'male') & (test_data.Pclass == 2)]\n",
    "# missing_m_3_test = test_data.Age[(test_data.Sex == 'male') & (test_data.Pclass == 3)]"
   ]
  },
  {
   "cell_type": "code",
   "execution_count": 51,
   "id": "4c6d2a6c",
   "metadata": {},
   "outputs": [],
   "source": [
    "# for i in missing_m_1.index:\n",
    "#     if missing_m_1.isnull()[i]:\n",
    "#         train_data.at[i, 'Age'] = mean_m_1\n",
    "# for i in missing_m_2.index:\n",
    "#     if missing_m_2.isnull()[i]:\n",
    "#         train_data.at[i, 'Age'] = mean_m_2\n",
    "# for i in missing_m_3.index:\n",
    "#     if missing_m_3.isnull()[i]:\n",
    "#         train_data.at[i, 'Age'] = mean_m_3"
   ]
  },
  {
   "cell_type": "code",
   "execution_count": 52,
   "id": "c34bb447",
   "metadata": {},
   "outputs": [],
   "source": [
    "# for i in missing_m_1_test.index:\n",
    "#     if missing_m_1_test.isnull()[i]:\n",
    "#         test_data.at[i, 'Age'] = mean_m_1\n",
    "# for i in missing_m_2_test.index:\n",
    "#     if missing_m_2_test.isnull()[i]:\n",
    "#         test_data.at[i, 'Age'] = mean_m_2\n",
    "# for i in missing_m_3_test.index:\n",
    "#     if missing_m_3_test.isnull()[i]:\n",
    "#         test_data.at[i, 'Age'] = mean_m_3"
   ]
  },
  {
   "cell_type": "code",
   "execution_count": 386,
   "id": "4efebbd8",
   "metadata": {
    "scrolled": false
   },
   "outputs": [
    {
     "data": {
      "text/plain": [
       "PassengerId           0\n",
       "Pclass                0\n",
       "Name                  0\n",
       "Titul                 0\n",
       "Sex                   0\n",
       "Age                   0\n",
       "BoyOrWoman            0\n",
       "SibSp                 0\n",
       "Parch                 0\n",
       "Ticket                0\n",
       "Fare                  0\n",
       "Cabin               327\n",
       "Embarked              0\n",
       "Embarked_Imputed      0\n",
       "Fare_Imputed          0\n",
       "Age_Imputed           0\n",
       "dtype: int64"
      ]
     },
     "execution_count": 386,
     "metadata": {},
     "output_type": "execute_result"
    }
   ],
   "source": [
    "# test_data.isnull().sum()"
   ]
  },
  {
   "cell_type": "code",
   "execution_count": 387,
   "id": "22e4f4cc",
   "metadata": {},
   "outputs": [
    {
     "data": {
      "text/plain": [
       "PassengerId           0\n",
       "Survived              0\n",
       "Pclass                0\n",
       "Name                  0\n",
       "Titul                 0\n",
       "Sex                   0\n",
       "Age                   0\n",
       "BoyOrWoman            0\n",
       "SibSp                 0\n",
       "Parch                 0\n",
       "Ticket                0\n",
       "Fare                  0\n",
       "Cabin               687\n",
       "Embarked              0\n",
       "Embarked_Imputed      0\n",
       "Fare_Imputed          0\n",
       "Age_Imputed           0\n",
       "dtype: int64"
      ]
     },
     "execution_count": 387,
     "metadata": {},
     "output_type": "execute_result"
    }
   ],
   "source": [
    "# train_data.isnull().sum()"
   ]
  },
  {
   "cell_type": "markdown",
   "id": "0f041447",
   "metadata": {},
   "source": [
    "# Training & Fitting"
   ]
  },
  {
   "cell_type": "code",
   "execution_count": 219,
   "id": "45815164",
   "metadata": {
    "scrolled": false
   },
   "outputs": [
    {
     "data": {
      "text/html": [
       "<div>\n",
       "<style scoped>\n",
       "    .dataframe tbody tr th:only-of-type {\n",
       "        vertical-align: middle;\n",
       "    }\n",
       "\n",
       "    .dataframe tbody tr th {\n",
       "        vertical-align: top;\n",
       "    }\n",
       "\n",
       "    .dataframe thead th {\n",
       "        text-align: right;\n",
       "    }\n",
       "</style>\n",
       "<table border=\"1\" class=\"dataframe\">\n",
       "  <thead>\n",
       "    <tr style=\"text-align: right;\">\n",
       "      <th></th>\n",
       "      <th>Pclass</th>\n",
       "      <th>Fare</th>\n",
       "      <th>Age</th>\n",
       "      <th>BoyOrWoman</th>\n",
       "      <th>Titul</th>\n",
       "      <th>Embarked_Imputed</th>\n",
       "      <th>Fare_Imputed</th>\n",
       "      <th>Age_Imputed</th>\n",
       "      <th>Embarked_C</th>\n",
       "      <th>Embarked_Q</th>\n",
       "      <th>Embarked_S</th>\n",
       "      <th>Sex_female</th>\n",
       "      <th>Sex_male</th>\n",
       "    </tr>\n",
       "  </thead>\n",
       "  <tbody>\n",
       "    <tr>\n",
       "      <th>0</th>\n",
       "      <td>3</td>\n",
       "      <td>7.2500</td>\n",
       "      <td>22.0</td>\n",
       "      <td>0</td>\n",
       "      <td>3</td>\n",
       "      <td>0</td>\n",
       "      <td>0</td>\n",
       "      <td>0</td>\n",
       "      <td>0</td>\n",
       "      <td>0</td>\n",
       "      <td>1</td>\n",
       "      <td>0</td>\n",
       "      <td>1</td>\n",
       "    </tr>\n",
       "    <tr>\n",
       "      <th>1</th>\n",
       "      <td>1</td>\n",
       "      <td>71.2833</td>\n",
       "      <td>38.0</td>\n",
       "      <td>1</td>\n",
       "      <td>3</td>\n",
       "      <td>0</td>\n",
       "      <td>0</td>\n",
       "      <td>0</td>\n",
       "      <td>1</td>\n",
       "      <td>0</td>\n",
       "      <td>0</td>\n",
       "      <td>1</td>\n",
       "      <td>0</td>\n",
       "    </tr>\n",
       "    <tr>\n",
       "      <th>2</th>\n",
       "      <td>3</td>\n",
       "      <td>7.9250</td>\n",
       "      <td>26.0</td>\n",
       "      <td>1</td>\n",
       "      <td>3</td>\n",
       "      <td>0</td>\n",
       "      <td>0</td>\n",
       "      <td>0</td>\n",
       "      <td>0</td>\n",
       "      <td>0</td>\n",
       "      <td>1</td>\n",
       "      <td>1</td>\n",
       "      <td>0</td>\n",
       "    </tr>\n",
       "    <tr>\n",
       "      <th>3</th>\n",
       "      <td>1</td>\n",
       "      <td>53.1000</td>\n",
       "      <td>35.0</td>\n",
       "      <td>1</td>\n",
       "      <td>3</td>\n",
       "      <td>0</td>\n",
       "      <td>0</td>\n",
       "      <td>0</td>\n",
       "      <td>0</td>\n",
       "      <td>0</td>\n",
       "      <td>1</td>\n",
       "      <td>1</td>\n",
       "      <td>0</td>\n",
       "    </tr>\n",
       "    <tr>\n",
       "      <th>4</th>\n",
       "      <td>3</td>\n",
       "      <td>8.0500</td>\n",
       "      <td>35.0</td>\n",
       "      <td>0</td>\n",
       "      <td>3</td>\n",
       "      <td>0</td>\n",
       "      <td>0</td>\n",
       "      <td>0</td>\n",
       "      <td>0</td>\n",
       "      <td>0</td>\n",
       "      <td>1</td>\n",
       "      <td>0</td>\n",
       "      <td>1</td>\n",
       "    </tr>\n",
       "    <tr>\n",
       "      <th>...</th>\n",
       "      <td>...</td>\n",
       "      <td>...</td>\n",
       "      <td>...</td>\n",
       "      <td>...</td>\n",
       "      <td>...</td>\n",
       "      <td>...</td>\n",
       "      <td>...</td>\n",
       "      <td>...</td>\n",
       "      <td>...</td>\n",
       "      <td>...</td>\n",
       "      <td>...</td>\n",
       "      <td>...</td>\n",
       "      <td>...</td>\n",
       "    </tr>\n",
       "    <tr>\n",
       "      <th>886</th>\n",
       "      <td>2</td>\n",
       "      <td>13.0000</td>\n",
       "      <td>27.0</td>\n",
       "      <td>0</td>\n",
       "      <td>3</td>\n",
       "      <td>0</td>\n",
       "      <td>0</td>\n",
       "      <td>0</td>\n",
       "      <td>0</td>\n",
       "      <td>0</td>\n",
       "      <td>1</td>\n",
       "      <td>0</td>\n",
       "      <td>1</td>\n",
       "    </tr>\n",
       "    <tr>\n",
       "      <th>887</th>\n",
       "      <td>1</td>\n",
       "      <td>30.0000</td>\n",
       "      <td>19.0</td>\n",
       "      <td>1</td>\n",
       "      <td>3</td>\n",
       "      <td>0</td>\n",
       "      <td>0</td>\n",
       "      <td>0</td>\n",
       "      <td>0</td>\n",
       "      <td>0</td>\n",
       "      <td>1</td>\n",
       "      <td>1</td>\n",
       "      <td>0</td>\n",
       "    </tr>\n",
       "    <tr>\n",
       "      <th>888</th>\n",
       "      <td>3</td>\n",
       "      <td>23.4500</td>\n",
       "      <td>23.1</td>\n",
       "      <td>1</td>\n",
       "      <td>3</td>\n",
       "      <td>0</td>\n",
       "      <td>0</td>\n",
       "      <td>1</td>\n",
       "      <td>0</td>\n",
       "      <td>0</td>\n",
       "      <td>1</td>\n",
       "      <td>1</td>\n",
       "      <td>0</td>\n",
       "    </tr>\n",
       "    <tr>\n",
       "      <th>889</th>\n",
       "      <td>1</td>\n",
       "      <td>30.0000</td>\n",
       "      <td>26.0</td>\n",
       "      <td>0</td>\n",
       "      <td>3</td>\n",
       "      <td>0</td>\n",
       "      <td>0</td>\n",
       "      <td>0</td>\n",
       "      <td>1</td>\n",
       "      <td>0</td>\n",
       "      <td>0</td>\n",
       "      <td>0</td>\n",
       "      <td>1</td>\n",
       "    </tr>\n",
       "    <tr>\n",
       "      <th>890</th>\n",
       "      <td>3</td>\n",
       "      <td>7.7500</td>\n",
       "      <td>32.0</td>\n",
       "      <td>0</td>\n",
       "      <td>3</td>\n",
       "      <td>0</td>\n",
       "      <td>0</td>\n",
       "      <td>0</td>\n",
       "      <td>0</td>\n",
       "      <td>1</td>\n",
       "      <td>0</td>\n",
       "      <td>0</td>\n",
       "      <td>1</td>\n",
       "    </tr>\n",
       "  </tbody>\n",
       "</table>\n",
       "<p>891 rows × 13 columns</p>\n",
       "</div>"
      ],
      "text/plain": [
       "     Pclass     Fare   Age  BoyOrWoman  Titul  Embarked_Imputed  Fare_Imputed  \\\n",
       "0         3   7.2500  22.0           0      3                 0             0   \n",
       "1         1  71.2833  38.0           1      3                 0             0   \n",
       "2         3   7.9250  26.0           1      3                 0             0   \n",
       "3         1  53.1000  35.0           1      3                 0             0   \n",
       "4         3   8.0500  35.0           0      3                 0             0   \n",
       "..      ...      ...   ...         ...    ...               ...           ...   \n",
       "886       2  13.0000  27.0           0      3                 0             0   \n",
       "887       1  30.0000  19.0           1      3                 0             0   \n",
       "888       3  23.4500  23.1           1      3                 0             0   \n",
       "889       1  30.0000  26.0           0      3                 0             0   \n",
       "890       3   7.7500  32.0           0      3                 0             0   \n",
       "\n",
       "     Age_Imputed  Embarked_C  Embarked_Q  Embarked_S  Sex_female  Sex_male  \n",
       "0              0           0           0           1           0         1  \n",
       "1              0           1           0           0           1         0  \n",
       "2              0           0           0           1           1         0  \n",
       "3              0           0           0           1           1         0  \n",
       "4              0           0           0           1           0         1  \n",
       "..           ...         ...         ...         ...         ...       ...  \n",
       "886            0           0           0           1           0         1  \n",
       "887            0           0           0           1           1         0  \n",
       "888            1           0           0           1           1         0  \n",
       "889            0           1           0           0           0         1  \n",
       "890            0           0           1           0           0         1  \n",
       "\n",
       "[891 rows x 13 columns]"
      ]
     },
     "execution_count": 219,
     "metadata": {},
     "output_type": "execute_result"
    }
   ],
   "source": [
    "y = train_data.Survived\n",
    "features = ['Pclass', 'Fare', 'Embarked', 'Age', 'Sex', 'BoyOrWoman', 'Titul', \n",
    "            'Embarked_Imputed', 'Fare_Imputed', 'Age_Imputed']\n",
    "X = pd.get_dummies(train_data[features])\n",
    "X"
   ]
  },
  {
   "cell_type": "code",
   "execution_count": 220,
   "id": "d0937101",
   "metadata": {},
   "outputs": [],
   "source": [
    "from sklearn.ensemble import RandomForestClassifier\n",
    "from sklearn.model_selection import train_test_split, GridSearchCV\n",
    "\n",
    "X_train, X_valid, y_train, y_valid = train_test_split(X, y, test_size = 0.3, random_state=0)\n",
    "\n",
    "parameters = {\n",
    "    'n_estimators' : [100, 150, 200, 250, 300],\n",
    "    'criterion' : ['gini', 'entropy'],\n",
    "    'max_depth' : [5, 6, 7, 8, 9],\n",
    "    'min_samples_split' : [3, 4, 5, 6, 7],\n",
    "    'min_samples_leaf' : [1, 2, 3, 4, 5]\n",
    "}\n",
    "model = RandomForestClassifier()"
   ]
  },
  {
   "cell_type": "code",
   "execution_count": 392,
   "id": "c6f279b0",
   "metadata": {
    "scrolled": true
   },
   "outputs": [
    {
     "data": {
      "text/plain": [
       "{'criterion': 'gini',\n",
       " 'max_depth': 8,\n",
       " 'min_samples_leaf': 1,\n",
       " 'min_samples_split': 4,\n",
       " 'n_estimators': 200}"
      ]
     },
     "execution_count": 392,
     "metadata": {},
     "output_type": "execute_result"
    }
   ],
   "source": [
    "grid = GridSearchCV(model, parameters, cv=5, n_jobs=-1)\n",
    "grid.fit(X_train, y_train)\n",
    "\n",
    "grid.best_params_"
   ]
  },
  {
   "cell_type": "code",
   "execution_count": 221,
   "id": "61f0dac1",
   "metadata": {
    "scrolled": true
   },
   "outputs": [
    {
     "data": {
      "text/plain": [
       "RandomForestClassifier(max_depth=8, min_samples_split=4, n_estimators=200,\n",
       "                       random_state=0)"
      ]
     },
     "execution_count": 221,
     "metadata": {},
     "output_type": "execute_result"
    }
   ],
   "source": [
    "best_model = RandomForestClassifier(n_estimators=200, criterion='gini', max_depth=8,\n",
    "                                    min_samples_split=4, min_samples_leaf=1, random_state=0)\n",
    "best_model.fit(X_train, y_train)"
   ]
  },
  {
   "cell_type": "code",
   "execution_count": 222,
   "id": "2d108daa",
   "metadata": {},
   "outputs": [
    {
     "data": {
      "text/plain": [
       "array([0.12211326, 0.19735067, 0.15542108, 0.17690803, 0.00568266,\n",
       "       0.00027705, 0.00198794, 0.02033767, 0.0476721 , 0.27224954])"
      ]
     },
     "execution_count": 222,
     "metadata": {},
     "output_type": "execute_result"
    }
   ],
   "source": [
    "importance = best_model.feature_importances_\n",
    "importance[11] = importance[11] + importance[12]\n",
    "importance[8] = importance[8:11].sum()\n",
    "features_weights = importance[[0, 1, 2, 3, 4, 5, 6, 7, 8, 11]]\n",
    "features_weights"
   ]
  },
  {
   "cell_type": "code",
   "execution_count": 223,
   "id": "595e454f",
   "metadata": {},
   "outputs": [],
   "source": [
    "indices = np.argsort(features_weights)[::-1]\n",
    "names = ['Pclass', 'Fare', 'Age', 'BoyOrWoman', 'Titul', 'Embarked_Imputed', 'Fare_Imputed', 'Age_Imputed',\n",
    "         'Embarked', 'Sex']"
   ]
  },
  {
   "cell_type": "code",
   "execution_count": 224,
   "id": "d16077cb",
   "metadata": {},
   "outputs": [
    {
     "data": {
      "image/png": "[encoded data removed]",
      "text/plain": [
       "<Figure size 432x288 with 1 Axes>"
      ]
     },
     "metadata": {
      "needs_background": "light"
     },
     "output_type": "display_data"
    }
   ],
   "source": [
    "plt.figure()\n",
    "plt.title('Feature importance')\n",
    "plt.bar(range(len(names)), features_weights[indices])\n",
    "plt.xticks(range(len(names)), names, rotation=90)\n",
    "plt.show()"
   ]
  },
  {
   "cell_type": "markdown",
   "id": "e1f9dfcf",
   "metadata": {},
   "source": [
    "# Scoring"
   ]
  },
  {
   "cell_type": "code",
   "execution_count": 225,
   "id": "c373a574",
   "metadata": {
    "scrolled": true
   },
   "outputs": [
    {
     "name": "stdout",
     "output_type": "stream",
     "text": [
      "[[151  17]\n",
      " [ 27  73]]\n",
      "              precision    recall  f1-score   support\n",
      "\n",
      "           0       0.85      0.90      0.87       168\n",
      "           1       0.81      0.73      0.77       100\n",
      "\n",
      "    accuracy                           0.84       268\n",
      "   macro avg       0.83      0.81      0.82       268\n",
      "weighted avg       0.83      0.84      0.83       268\n",
      "\n",
      "0.8144047619047619\n"
     ]
    }
   ],
   "source": [
    "from sklearn.metrics import classification_report, confusion_matrix, roc_auc_score\n",
    "\n",
    "pred = best_model.predict(X_valid)\n",
    "\n",
    "print(confusion_matrix(y_valid, pred))\n",
    "print(classification_report(y_valid, pred))\n",
    "print(roc_auc_score(y_valid, pred))"
   ]
  },
  {
   "cell_type": "markdown",
   "id": "d696994c",
   "metadata": {},
   "source": [
    "# Make Prediction & Submit"
   ]
  },
  {
   "cell_type": "code",
   "execution_count": 65,
   "id": "24b9a878",
   "metadata": {},
   "outputs": [],
   "source": [
    "# final_model = RandomForestClassifier(n_estimators=250, criterion='gini', max_depth=8,\n",
    "#                                     min_samples_split=6, min_samples_leaf=4, random_state=0)\n",
    "# final_model.fit(X, y)"
   ]
  },
  {
   "cell_type": "code",
   "execution_count": 226,
   "id": "9fee1e8a",
   "metadata": {
    "scrolled": false
   },
   "outputs": [
    {
     "data": {
      "text/html": [
       "<div>\n",
       "<style scoped>\n",
       "    .dataframe tbody tr th:only-of-type {\n",
       "        vertical-align: middle;\n",
       "    }\n",
       "\n",
       "    .dataframe tbody tr th {\n",
       "        vertical-align: top;\n",
       "    }\n",
       "\n",
       "    .dataframe thead th {\n",
       "        text-align: right;\n",
       "    }\n",
       "</style>\n",
       "<table border=\"1\" class=\"dataframe\">\n",
       "  <thead>\n",
       "    <tr style=\"text-align: right;\">\n",
       "      <th></th>\n",
       "      <th>Pclass</th>\n",
       "      <th>Fare</th>\n",
       "      <th>Age</th>\n",
       "      <th>BoyOrWoman</th>\n",
       "      <th>Titul</th>\n",
       "      <th>Embarked_Imputed</th>\n",
       "      <th>Fare_Imputed</th>\n",
       "      <th>Age_Imputed</th>\n",
       "      <th>Embarked_C</th>\n",
       "      <th>Embarked_Q</th>\n",
       "      <th>Embarked_S</th>\n",
       "      <th>Sex_female</th>\n",
       "      <th>Sex_male</th>\n",
       "    </tr>\n",
       "  </thead>\n",
       "  <tbody>\n",
       "    <tr>\n",
       "      <th>0</th>\n",
       "      <td>3</td>\n",
       "      <td>7.8292</td>\n",
       "      <td>34.5</td>\n",
       "      <td>0</td>\n",
       "      <td>3</td>\n",
       "      <td>0</td>\n",
       "      <td>0</td>\n",
       "      <td>0</td>\n",
       "      <td>0</td>\n",
       "      <td>1</td>\n",
       "      <td>0</td>\n",
       "      <td>0</td>\n",
       "      <td>1</td>\n",
       "    </tr>\n",
       "    <tr>\n",
       "      <th>1</th>\n",
       "      <td>3</td>\n",
       "      <td>7.0000</td>\n",
       "      <td>47.0</td>\n",
       "      <td>1</td>\n",
       "      <td>3</td>\n",
       "      <td>0</td>\n",
       "      <td>0</td>\n",
       "      <td>0</td>\n",
       "      <td>0</td>\n",
       "      <td>0</td>\n",
       "      <td>1</td>\n",
       "      <td>1</td>\n",
       "      <td>0</td>\n",
       "    </tr>\n",
       "    <tr>\n",
       "      <th>2</th>\n",
       "      <td>2</td>\n",
       "      <td>9.6875</td>\n",
       "      <td>62.0</td>\n",
       "      <td>0</td>\n",
       "      <td>3</td>\n",
       "      <td>0</td>\n",
       "      <td>0</td>\n",
       "      <td>0</td>\n",
       "      <td>0</td>\n",
       "      <td>1</td>\n",
       "      <td>0</td>\n",
       "      <td>0</td>\n",
       "      <td>1</td>\n",
       "    </tr>\n",
       "    <tr>\n",
       "      <th>3</th>\n",
       "      <td>3</td>\n",
       "      <td>8.6625</td>\n",
       "      <td>27.0</td>\n",
       "      <td>0</td>\n",
       "      <td>3</td>\n",
       "      <td>0</td>\n",
       "      <td>0</td>\n",
       "      <td>0</td>\n",
       "      <td>0</td>\n",
       "      <td>0</td>\n",
       "      <td>1</td>\n",
       "      <td>0</td>\n",
       "      <td>1</td>\n",
       "    </tr>\n",
       "    <tr>\n",
       "      <th>4</th>\n",
       "      <td>3</td>\n",
       "      <td>12.2875</td>\n",
       "      <td>22.0</td>\n",
       "      <td>1</td>\n",
       "      <td>3</td>\n",
       "      <td>0</td>\n",
       "      <td>0</td>\n",
       "      <td>0</td>\n",
       "      <td>0</td>\n",
       "      <td>0</td>\n",
       "      <td>1</td>\n",
       "      <td>1</td>\n",
       "      <td>0</td>\n",
       "    </tr>\n",
       "    <tr>\n",
       "      <th>...</th>\n",
       "      <td>...</td>\n",
       "      <td>...</td>\n",
       "      <td>...</td>\n",
       "      <td>...</td>\n",
       "      <td>...</td>\n",
       "      <td>...</td>\n",
       "      <td>...</td>\n",
       "      <td>...</td>\n",
       "      <td>...</td>\n",
       "      <td>...</td>\n",
       "      <td>...</td>\n",
       "      <td>...</td>\n",
       "      <td>...</td>\n",
       "    </tr>\n",
       "    <tr>\n",
       "      <th>413</th>\n",
       "      <td>3</td>\n",
       "      <td>8.0500</td>\n",
       "      <td>27.9</td>\n",
       "      <td>0</td>\n",
       "      <td>3</td>\n",
       "      <td>0</td>\n",
       "      <td>0</td>\n",
       "      <td>1</td>\n",
       "      <td>0</td>\n",
       "      <td>0</td>\n",
       "      <td>1</td>\n",
       "      <td>0</td>\n",
       "      <td>1</td>\n",
       "    </tr>\n",
       "    <tr>\n",
       "      <th>414</th>\n",
       "      <td>1</td>\n",
       "      <td>108.9000</td>\n",
       "      <td>39.0</td>\n",
       "      <td>1</td>\n",
       "      <td>3</td>\n",
       "      <td>0</td>\n",
       "      <td>0</td>\n",
       "      <td>0</td>\n",
       "      <td>1</td>\n",
       "      <td>0</td>\n",
       "      <td>0</td>\n",
       "      <td>1</td>\n",
       "      <td>0</td>\n",
       "    </tr>\n",
       "    <tr>\n",
       "      <th>415</th>\n",
       "      <td>3</td>\n",
       "      <td>7.2500</td>\n",
       "      <td>38.5</td>\n",
       "      <td>0</td>\n",
       "      <td>3</td>\n",
       "      <td>0</td>\n",
       "      <td>0</td>\n",
       "      <td>0</td>\n",
       "      <td>0</td>\n",
       "      <td>0</td>\n",
       "      <td>1</td>\n",
       "      <td>0</td>\n",
       "      <td>1</td>\n",
       "    </tr>\n",
       "    <tr>\n",
       "      <th>416</th>\n",
       "      <td>3</td>\n",
       "      <td>8.0500</td>\n",
       "      <td>27.9</td>\n",
       "      <td>0</td>\n",
       "      <td>3</td>\n",
       "      <td>0</td>\n",
       "      <td>0</td>\n",
       "      <td>1</td>\n",
       "      <td>0</td>\n",
       "      <td>0</td>\n",
       "      <td>1</td>\n",
       "      <td>0</td>\n",
       "      <td>1</td>\n",
       "    </tr>\n",
       "    <tr>\n",
       "      <th>417</th>\n",
       "      <td>3</td>\n",
       "      <td>22.3583</td>\n",
       "      <td>6.5</td>\n",
       "      <td>1</td>\n",
       "      <td>3</td>\n",
       "      <td>0</td>\n",
       "      <td>0</td>\n",
       "      <td>1</td>\n",
       "      <td>1</td>\n",
       "      <td>0</td>\n",
       "      <td>0</td>\n",
       "      <td>0</td>\n",
       "      <td>1</td>\n",
       "    </tr>\n",
       "  </tbody>\n",
       "</table>\n",
       "<p>418 rows × 13 columns</p>\n",
       "</div>"
      ],
      "text/plain": [
       "     Pclass      Fare   Age  BoyOrWoman  Titul  Embarked_Imputed  \\\n",
       "0         3    7.8292  34.5           0      3                 0   \n",
       "1         3    7.0000  47.0           1      3                 0   \n",
       "2         2    9.6875  62.0           0      3                 0   \n",
       "3         3    8.6625  27.0           0      3                 0   \n",
       "4         3   12.2875  22.0           1      3                 0   \n",
       "..      ...       ...   ...         ...    ...               ...   \n",
       "413       3    8.0500  27.9           0      3                 0   \n",
       "414       1  108.9000  39.0           1      3                 0   \n",
       "415       3    7.2500  38.5           0      3                 0   \n",
       "416       3    8.0500  27.9           0      3                 0   \n",
       "417       3   22.3583   6.5           1      3                 0   \n",
       "\n",
       "     Fare_Imputed  Age_Imputed  Embarked_C  Embarked_Q  Embarked_S  \\\n",
       "0               0            0           0           1           0   \n",
       "1               0            0           0           0           1   \n",
       "2               0            0           0           1           0   \n",
       "3               0            0           0           0           1   \n",
       "4               0            0           0           0           1   \n",
       "..            ...          ...         ...         ...         ...   \n",
       "413             0            1           0           0           1   \n",
       "414             0            0           1           0           0   \n",
       "415             0            0           0           0           1   \n",
       "416             0            1           0           0           1   \n",
       "417             0            1           1           0           0   \n",
       "\n",
       "     Sex_female  Sex_male  \n",
       "0             0         1  \n",
       "1             1         0  \n",
       "2             0         1  \n",
       "3             0         1  \n",
       "4             1         0  \n",
       "..          ...       ...  \n",
       "413           0         1  \n",
       "414           1         0  \n",
       "415           0         1  \n",
       "416           0         1  \n",
       "417           0         1  \n",
       "\n",
       "[418 rows x 13 columns]"
      ]
     },
     "execution_count": 226,
     "metadata": {},
     "output_type": "execute_result"
    }
   ],
   "source": [
    "X_test = pd.get_dummies(test_data[features])\n",
    "X_test"
   ]
  },
  {
   "cell_type": "code",
   "execution_count": 227,
   "id": "fed566a0",
   "metadata": {},
   "outputs": [],
   "source": [
    "results = best_model.predict(X_test)"
   ]
  },
  {
   "cell_type": "code",
   "execution_count": 228,
   "id": "ad7951ae",
   "metadata": {},
   "outputs": [],
   "source": [
    "output = pd.DataFrame({'PassengerId' : test_data.PassengerId, 'Survived' : results})\n",
    "output.to_csv('jupyter_submission.csv', index=False)"
   ]
  },
  {
   "cell_type": "markdown",
   "id": "aeafb90e",
   "metadata": {},
   "source": [
    "# Result"
   ]
  },
  {
   "cell_type": "markdown",
   "id": "b5638375",
   "metadata": {},
   "source": [
    "## 0.79425 with 3561/53297 ~ top 7%"
   ]
  }
 ],
 "metadata": {
  "kernelspec": {
   "display_name": "Python 3",
   "language": "python",
   "name": "python3"
  },
  "language_info": {
   "codemirror_mode": {
    "name": "ipython",
    "version": 3
   },
   "file_extension": ".py",
   "mimetype": "text/x-python",
   "name": "python",
   "nbconvert_exporter": "python",
   "pygments_lexer": "ipython3",
   "version": "3.8.8"
  }
 },
 "nbformat": 4,
 "nbformat_minor": 5
}
